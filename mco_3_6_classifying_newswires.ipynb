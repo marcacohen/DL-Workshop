{
  "nbformat": 4,
  "nbformat_minor": 0,
  "metadata": {
    "kernelspec": {
      "display_name": "Python 3",
      "language": "python",
      "name": "python3"
    },
    "language_info": {
      "codemirror_mode": {
        "name": "ipython",
        "version": 3
      },
      "file_extension": ".py",
      "mimetype": "text/x-python",
      "name": "python",
      "nbconvert_exporter": "python",
      "pygments_lexer": "ipython3",
      "version": "3.5.2"
    },
    "colab": {
      "name": "mco-3.6-classifying-newswires.ipynb",
      "provenance": [],
      "include_colab_link": true
    }
  },
  "cells": [
    {
      "cell_type": "markdown",
      "metadata": {
        "id": "view-in-github",
        "colab_type": "text"
      },
      "source": [
        "<a href=\"https://colab.research.google.com/github/marcacohen/DL-Workshop/blob/master/mco_3_6_classifying_newswires.ipynb\" target=\"_parent\"><img src=\"https://colab.research.google.com/assets/colab-badge.svg\" alt=\"Open In Colab\"/></a>"
      ]
    },
    {
      "cell_type": "markdown",
      "metadata": {
        "id": "Vxl7YfTw8b-e",
        "colab_type": "text"
      },
      "source": [
        "## Setup\n",
        "1. Upgrade keras to latest version via  \n",
        "2. Restart runtime to enable new keras version"
      ]
    },
    {
      "cell_type": "code",
      "metadata": {
        "id": "xmxAlZkN8eyd",
        "colab_type": "code",
        "colab": {
          "base_uri": "https://localhost:8080/",
          "height": 272
        },
        "outputId": "bad0ad2e-3918-400d-bd36-a72fae89bf3e"
      },
      "source": [
        "#Run this cell. Once installation is complete, click the \"Restart Runtime\" button\" in the output below before proceeding\n",
        "!pip install keras --upgrade"
      ],
      "execution_count": 1,
      "outputs": [
        {
          "output_type": "stream",
          "text": [
            "Collecting keras\n",
            "\u001b[?25l  Downloading https://files.pythonhosted.org/packages/1b/18/2e1ef121e5560ac24c7ac9e363aa5fa7006c40563c989e7211aba95b793a/Keras-2.3.0-py2.py3-none-any.whl (377kB)\n",
            "\r\u001b[K     |▉                               | 10kB 16.0MB/s eta 0:00:01\r\u001b[K     |█▊                              | 20kB 3.2MB/s eta 0:00:01\r\u001b[K     |██▋                             | 30kB 4.7MB/s eta 0:00:01\r\u001b[K     |███▌                            | 40kB 3.0MB/s eta 0:00:01\r\u001b[K     |████▍                           | 51kB 3.7MB/s eta 0:00:01\r\u001b[K     |█████▏                          | 61kB 4.4MB/s eta 0:00:01\r\u001b[K     |██████                          | 71kB 5.1MB/s eta 0:00:01\r\u001b[K     |███████                         | 81kB 5.7MB/s eta 0:00:01\r\u001b[K     |███████▉                        | 92kB 6.4MB/s eta 0:00:01\r\u001b[K     |████████▊                       | 102kB 4.7MB/s eta 0:00:01\r\u001b[K     |█████████▌                      | 112kB 4.7MB/s eta 0:00:01\r\u001b[K     |██████████▍                     | 122kB 4.7MB/s eta 0:00:01\r\u001b[K     |███████████▎                    | 133kB 4.7MB/s eta 0:00:01\r\u001b[K     |████████████▏                   | 143kB 4.7MB/s eta 0:00:01\r\u001b[K     |█████████████                   | 153kB 4.7MB/s eta 0:00:01\r\u001b[K     |█████████████▉                  | 163kB 4.7MB/s eta 0:00:01\r\u001b[K     |██████████████▊                 | 174kB 4.7MB/s eta 0:00:01\r\u001b[K     |███████████████▋                | 184kB 4.7MB/s eta 0:00:01\r\u001b[K     |████████████████▌               | 194kB 4.7MB/s eta 0:00:01\r\u001b[K     |█████████████████▍              | 204kB 4.7MB/s eta 0:00:01\r\u001b[K     |██████████████████▎             | 215kB 4.7MB/s eta 0:00:01\r\u001b[K     |███████████████████             | 225kB 4.7MB/s eta 0:00:01\r\u001b[K     |████████████████████            | 235kB 4.7MB/s eta 0:00:01\r\u001b[K     |████████████████████▉           | 245kB 4.7MB/s eta 0:00:01\r\u001b[K     |█████████████████████▊          | 256kB 4.7MB/s eta 0:00:01\r\u001b[K     |██████████████████████▋         | 266kB 4.7MB/s eta 0:00:01\r\u001b[K     |███████████████████████▍        | 276kB 4.7MB/s eta 0:00:01\r\u001b[K     |████████████████████████▎       | 286kB 4.7MB/s eta 0:00:01\r\u001b[K     |█████████████████████████▏      | 296kB 4.7MB/s eta 0:00:01\r\u001b[K     |██████████████████████████      | 307kB 4.7MB/s eta 0:00:01\r\u001b[K     |███████████████████████████     | 317kB 4.7MB/s eta 0:00:01\r\u001b[K     |███████████████████████████▊    | 327kB 4.7MB/s eta 0:00:01\r\u001b[K     |████████████████████████████▋   | 337kB 4.7MB/s eta 0:00:01\r\u001b[K     |█████████████████████████████▌  | 348kB 4.7MB/s eta 0:00:01\r\u001b[K     |██████████████████████████████▍ | 358kB 4.7MB/s eta 0:00:01\r\u001b[K     |███████████████████████████████▎| 368kB 4.7MB/s eta 0:00:01\r\u001b[K     |████████████████████████████████| 378kB 4.7MB/s \n",
            "\u001b[?25hRequirement already satisfied, skipping upgrade: pyyaml in /usr/local/lib/python3.6/dist-packages (from keras) (3.13)\n",
            "Requirement already satisfied, skipping upgrade: scipy>=0.14 in /usr/local/lib/python3.6/dist-packages (from keras) (1.3.1)\n",
            "Requirement already satisfied, skipping upgrade: six>=1.9.0 in /usr/local/lib/python3.6/dist-packages (from keras) (1.12.0)\n",
            "Requirement already satisfied, skipping upgrade: numpy>=1.9.1 in /usr/local/lib/python3.6/dist-packages (from keras) (1.16.5)\n",
            "Requirement already satisfied, skipping upgrade: keras-applications>=1.0.6 in /usr/local/lib/python3.6/dist-packages (from keras) (1.0.8)\n",
            "Requirement already satisfied, skipping upgrade: h5py in /usr/local/lib/python3.6/dist-packages (from keras) (2.8.0)\n",
            "Requirement already satisfied, skipping upgrade: keras-preprocessing>=1.0.5 in /usr/local/lib/python3.6/dist-packages (from keras) (1.1.0)\n",
            "Installing collected packages: keras\n",
            "  Found existing installation: Keras 2.2.5\n",
            "    Uninstalling Keras-2.2.5:\n",
            "      Successfully uninstalled Keras-2.2.5\n",
            "Successfully installed keras-2.3.0\n"
          ],
          "name": "stdout"
        }
      ]
    },
    {
      "cell_type": "code",
      "metadata": {
        "id": "wcopYIN08GN2",
        "colab_type": "code",
        "outputId": "2b51b95d-8f6a-4a15-e25b-1a9019f111a4",
        "colab": {
          "base_uri": "https://localhost:8080/",
          "height": 51
        }
      },
      "source": [
        "import keras\n",
        "keras.__version__"
      ],
      "execution_count": 2,
      "outputs": [
        {
          "output_type": "stream",
          "text": [
            "Using TensorFlow backend.\n"
          ],
          "name": "stderr"
        },
        {
          "output_type": "execute_result",
          "data": {
            "text/plain": [
              "'2.3.0'"
            ]
          },
          "metadata": {
            "tags": []
          },
          "execution_count": 2
        }
      ]
    },
    {
      "cell_type": "markdown",
      "metadata": {
        "id": "HA6nVVwq8GN7",
        "colab_type": "text"
      },
      "source": [
        "# Classifying newswires: a multi-class classification example\n",
        "\n",
        "This notebook contains the code samples found in Chapter 3, Section 5 of [Deep Learning with Python](https://www.manning.com/books/deep-learning-with-python?a_aid=keras&a_bid=76564dff). Note that the original text features far more content, in particular further explanations and figures: in this notebook, you will only find source code and related comments.\n",
        "\n",
        "----\n",
        "\n",
        "In the previous section we saw how to classify vector inputs into two mutually exclusive classes using a densely-connected neural network. \n",
        "But what happens when you have more than two classes? \n",
        "\n",
        "In this section, we will build a network to classify Reuters newswires into 46 different mutually-exclusive topics. Since we have many \n",
        "classes, this problem is an instance of \"multi-class classification\", and since each data point should be classified into only one \n",
        "category, the problem is more specifically an instance of \"single-label, multi-class classification\". If each data point could have \n",
        "belonged to multiple categories (in our case, topics) then we would be facing a \"multi-label, multi-class classification\" problem."
      ]
    },
    {
      "cell_type": "markdown",
      "metadata": {
        "id": "ZTq-L2lY8GN7",
        "colab_type": "text"
      },
      "source": [
        "## The Reuters dataset\n",
        "\n",
        "\n",
        "We will be working with the _Reuters dataset_, a set of short newswires and their topics, published by Reuters in 1986. It's a very simple, \n",
        "widely used toy dataset for text classification. There are 46 different topics; some topics are more represented than others, but each \n",
        "topic has at least 10 examples in the training set.\n",
        "\n",
        "Like IMDB and MNIST, the Reuters dataset comes packaged as part of Keras. Let's take a look right away:"
      ]
    },
    {
      "cell_type": "code",
      "metadata": {
        "id": "77NUZi1d8GN8",
        "colab_type": "code",
        "colab": {
          "base_uri": "https://localhost:8080/",
          "height": 51
        },
        "outputId": "bd8c5e93-4bbe-4820-abfd-a76cb7aeb0d2"
      },
      "source": [
        "from keras.datasets import reuters\n",
        "\n",
        "(train_data, train_labels), (test_data, test_labels) = reuters.load_data(num_words=10000)"
      ],
      "execution_count": 3,
      "outputs": [
        {
          "output_type": "stream",
          "text": [
            "Downloading data from https://s3.amazonaws.com/text-datasets/reuters.npz\n",
            "2113536/2110848 [==============================] - 0s 0us/step\n"
          ],
          "name": "stdout"
        }
      ]
    },
    {
      "cell_type": "markdown",
      "metadata": {
        "id": "47eeSTee8GN-",
        "colab_type": "text"
      },
      "source": [
        "\n",
        "Like with the IMDB dataset, the argument `num_words=10000` restricts the data to the 10,000 most frequently occurring words found in the \n",
        "data.\n",
        "\n",
        "We have 8,982 training examples and 2,246 test examples:"
      ]
    },
    {
      "cell_type": "code",
      "metadata": {
        "id": "RqJMr8sz8GN-",
        "colab_type": "code",
        "outputId": "002ec1c3-c817-4ca9-aff2-a4c3047088d5",
        "colab": {
          "base_uri": "https://localhost:8080/",
          "height": 34
        }
      },
      "source": [
        "len(train_data)"
      ],
      "execution_count": 4,
      "outputs": [
        {
          "output_type": "execute_result",
          "data": {
            "text/plain": [
              "8982"
            ]
          },
          "metadata": {
            "tags": []
          },
          "execution_count": 4
        }
      ]
    },
    {
      "cell_type": "code",
      "metadata": {
        "id": "is9i-7Rf8GOA",
        "colab_type": "code",
        "outputId": "a587f7a7-e6af-4a6b-8e56-aa99a4146873",
        "colab": {
          "base_uri": "https://localhost:8080/",
          "height": 34
        }
      },
      "source": [
        "len(test_data)"
      ],
      "execution_count": 5,
      "outputs": [
        {
          "output_type": "execute_result",
          "data": {
            "text/plain": [
              "2246"
            ]
          },
          "metadata": {
            "tags": []
          },
          "execution_count": 5
        }
      ]
    },
    {
      "cell_type": "markdown",
      "metadata": {
        "id": "rq5CyrkC8GOB",
        "colab_type": "text"
      },
      "source": [
        "As with the IMDB reviews, each example is a list of integers (word indices):"
      ]
    },
    {
      "cell_type": "code",
      "metadata": {
        "id": "wBNDIvJ-8GOC",
        "colab_type": "code",
        "outputId": "f5d43930-3657-4d85-faaf-e939d4fb367a",
        "colab": {
          "base_uri": "https://localhost:8080/",
          "height": 544
        }
      },
      "source": [
        "train_data[10]"
      ],
      "execution_count": 6,
      "outputs": [
        {
          "output_type": "execute_result",
          "data": {
            "text/plain": [
              "[1,\n",
              " 245,\n",
              " 273,\n",
              " 207,\n",
              " 156,\n",
              " 53,\n",
              " 74,\n",
              " 160,\n",
              " 26,\n",
              " 14,\n",
              " 46,\n",
              " 296,\n",
              " 26,\n",
              " 39,\n",
              " 74,\n",
              " 2979,\n",
              " 3554,\n",
              " 14,\n",
              " 46,\n",
              " 4689,\n",
              " 4329,\n",
              " 86,\n",
              " 61,\n",
              " 3499,\n",
              " 4795,\n",
              " 14,\n",
              " 61,\n",
              " 451,\n",
              " 4329,\n",
              " 17,\n",
              " 12]"
            ]
          },
          "metadata": {
            "tags": []
          },
          "execution_count": 6
        }
      ]
    },
    {
      "cell_type": "markdown",
      "metadata": {
        "id": "QPy8MrvJ8GOE",
        "colab_type": "text"
      },
      "source": [
        "Here's how you can decode it back to words, in case you are curious:"
      ]
    },
    {
      "cell_type": "code",
      "metadata": {
        "id": "x_iQpLpO8GOE",
        "colab_type": "code",
        "colab": {
          "base_uri": "https://localhost:8080/",
          "height": 51
        },
        "outputId": "adaffedd-cc07-4699-930f-2ebc2d7f7a56"
      },
      "source": [
        "word_index = reuters.get_word_index()\n",
        "reverse_word_index = dict([(value, key) for (key, value) in word_index.items()])\n",
        "# Note that our indices were offset by 3\n",
        "# because 0, 1 and 2 are reserved indices for \"padding\", \"start of sequence\", and \"unknown\".\n",
        "decoded_newswire = ' '.join([reverse_word_index.get(i - 3, '?') for i in train_data[10]])"
      ],
      "execution_count": 7,
      "outputs": [
        {
          "output_type": "stream",
          "text": [
            "Downloading data from https://s3.amazonaws.com/text-datasets/reuters_word_index.json\n",
            "557056/550378 [==============================] - 0s 0us/step\n"
          ],
          "name": "stdout"
        }
      ]
    },
    {
      "cell_type": "code",
      "metadata": {
        "id": "b-ctyBEP8GOG",
        "colab_type": "code",
        "outputId": "8529fe28-7229-4423-8800-9a61162ed382",
        "colab": {
          "base_uri": "https://localhost:8080/",
          "height": 34
        }
      },
      "source": [
        "decoded_newswire"
      ],
      "execution_count": 8,
      "outputs": [
        {
          "output_type": "execute_result",
          "data": {
            "text/plain": [
              "'? period ended december 31 shr profit 11 cts vs loss 24 cts net profit 224 271 vs loss 511 349 revs 7 258 688 vs 7 200 349 reuter 3'"
            ]
          },
          "metadata": {
            "tags": []
          },
          "execution_count": 8
        }
      ]
    },
    {
      "cell_type": "markdown",
      "metadata": {
        "id": "DundSTNU8GON",
        "colab_type": "text"
      },
      "source": [
        "The label associated with an example is an integer between 0 and 45: a topic index."
      ]
    },
    {
      "cell_type": "code",
      "metadata": {
        "id": "SdEhLT1Q8GOO",
        "colab_type": "code",
        "outputId": "83c9cb97-6bc3-4f2e-d00f-d80a7c8b3f66",
        "colab": {
          "base_uri": "https://localhost:8080/",
          "height": 34
        }
      },
      "source": [
        "train_labels[10]"
      ],
      "execution_count": 9,
      "outputs": [
        {
          "output_type": "execute_result",
          "data": {
            "text/plain": [
              "3"
            ]
          },
          "metadata": {
            "tags": []
          },
          "execution_count": 9
        }
      ]
    },
    {
      "cell_type": "code",
      "metadata": {
        "id": "Wx0h3_53KNT6",
        "colab_type": "code",
        "colab": {
          "base_uri": "https://localhost:8080/",
          "height": 34
        },
        "outputId": "45945995-21f2-4100-feae-0ea40cb58ac3"
      },
      "source": [
        "#check the topic\n",
        "reuters_topics = ['cocoa','grain','veg-oil','earn','acq','wheat','copper','housing','money-supply',\n",
        " 'coffee','sugar','trade','reserves','ship','cotton','carcass','crude','nat-gas',\n",
        " 'cpi','money-fx','interest','gnp','meal-feed','alum','oilseed','gold','tin',\n",
        " 'strategic-metal','livestock','retail','ipi','iron-steel','rubber','heat','jobs',\n",
        " 'lei','bop','zinc','orange','pet-chem','dlr','gas','silver','wpi','hog','lead']\n",
        "\n",
        "reuters_topics[ train_labels[10] ]"
      ],
      "execution_count": 10,
      "outputs": [
        {
          "output_type": "execute_result",
          "data": {
            "text/plain": [
              "'earn'"
            ]
          },
          "metadata": {
            "tags": []
          },
          "execution_count": 10
        }
      ]
    },
    {
      "cell_type": "markdown",
      "metadata": {
        "id": "CY3e_AfC8GOS",
        "colab_type": "text"
      },
      "source": [
        "## Preparing the data\n",
        "\n",
        "We can vectorize the data with the exact same code as in our previous example:"
      ]
    },
    {
      "cell_type": "code",
      "metadata": {
        "id": "NLPF07uK8GOU",
        "colab_type": "code",
        "colab": {}
      },
      "source": [
        "import numpy as np\n",
        "\n",
        "def vectorize_sequences(sequences, dimension=10000):\n",
        "    results = np.zeros((len(sequences), dimension))\n",
        "    for i, sequence in enumerate(sequences):\n",
        "        results[i, sequence] = 1.\n",
        "    return results\n",
        "\n",
        "# Our vectorized training data\n",
        "x_train = vectorize_sequences(train_data)\n",
        "# Our vectorized test data\n",
        "x_test = vectorize_sequences(test_data)"
      ],
      "execution_count": 0,
      "outputs": []
    },
    {
      "cell_type": "markdown",
      "metadata": {
        "id": "Bqu2t8Lj8GOY",
        "colab_type": "text"
      },
      "source": [
        "\n",
        "To vectorize the labels, there are two possibilities: we could just cast the label list as an integer tensor, or we could use a \"one-hot\" \n",
        "encoding. One-hot encoding is a widely used format for categorical data, also called \"categorical encoding\". \n",
        "For a more detailed explanation of one-hot encoding, you can refer to Chapter 6, Section 1. \n",
        "In our case, one-hot encoding of our labels consists in embedding each label as an all-zero vector with a 1 in the place of the label index, e.g.:"
      ]
    },
    {
      "cell_type": "code",
      "metadata": {
        "id": "cz1XLDiO8GOZ",
        "colab_type": "code",
        "colab": {}
      },
      "source": [
        "def to_one_hot(labels, dimension=46):\n",
        "    results = np.zeros((len(labels), dimension))\n",
        "    for i, label in enumerate(labels):\n",
        "        results[i, label] = 1.\n",
        "    return results\n",
        "\n",
        "# Our vectorized training labels\n",
        "one_hot_train_labels = to_one_hot(train_labels)\n",
        "# Our vectorized test labels\n",
        "one_hot_test_labels = to_one_hot(test_labels)"
      ],
      "execution_count": 0,
      "outputs": []
    },
    {
      "cell_type": "markdown",
      "metadata": {
        "id": "u3AlfzeB8GOb",
        "colab_type": "text"
      },
      "source": [
        "Note that there is a built-in way to do this in Keras, which you have already seen in action in our MNIST example:"
      ]
    },
    {
      "cell_type": "code",
      "metadata": {
        "id": "zgQPgzLp8GOc",
        "colab_type": "code",
        "colab": {}
      },
      "source": [
        "from keras.utils.np_utils import to_categorical\n",
        "\n",
        "one_hot_train_labels = to_categorical(train_labels)\n",
        "one_hot_test_labels = to_categorical(test_labels)"
      ],
      "execution_count": 0,
      "outputs": []
    },
    {
      "cell_type": "markdown",
      "metadata": {
        "id": "fsDiab7d8GOe",
        "colab_type": "text"
      },
      "source": [
        "## Building our network\n",
        "\n",
        "\n",
        "This topic classification problem looks very similar to our previous movie review classification problem: in both cases, we are trying to \n",
        "classify short snippets of text. There is however a new constraint here: the number of output classes has gone from 2 to 46, i.e. the \n",
        "dimensionality of the output space is much larger. \n",
        "\n",
        "In a stack of `Dense` layers like what we were using, each layer can only access information present in the output of the previous layer. \n",
        "If one layer drops some information relevant to the classification problem, this information can never be recovered by later layers: each \n",
        "layer can potentially become an \"information bottleneck\". In our previous example, we were using 16-dimensional intermediate layers, but a \n",
        "16-dimensional space may be too limited to learn to separate 46 different classes: such small layers may act as information bottlenecks, \n",
        "permanently dropping relevant information.\n",
        "\n",
        "For this reason we will use larger layers. Let's go with 64 units:"
      ]
    },
    {
      "cell_type": "code",
      "metadata": {
        "id": "W1V2D5ZF8GOf",
        "colab_type": "code",
        "colab": {}
      },
      "source": [
        "from keras import models\n",
        "from keras import layers\n",
        "\n",
        "model = models.Sequential()\n",
        "model.add(layers.Dense(64, activation='relu', input_shape=(10000,)))\n",
        "model.add(layers.Dense(64, activation='relu'))\n",
        "model.add(layers.Dense(46, activation='softmax'))"
      ],
      "execution_count": 0,
      "outputs": []
    },
    {
      "cell_type": "markdown",
      "metadata": {
        "id": "DAdf2iQ_8GOh",
        "colab_type": "text"
      },
      "source": [
        "\n",
        "There are two other things you should note about this architecture:\n",
        "\n",
        "* We are ending the network with a `Dense` layer of size 46. This means that for each input sample, our network will output a \n",
        "46-dimensional vector. Each entry in this vector (each dimension) will encode a different output class.\n",
        "* The last layer uses a `softmax` activation. You have already seen this pattern in the MNIST example. It means that the network will \n",
        "output a _probability distribution_ over the 46 different output classes, i.e. for every input sample, the network will produce a \n",
        "46-dimensional output vector where `output[i]` is the probability that the sample belongs to class `i`. The 46 scores will sum to 1.\n",
        "\n",
        "The best loss function to use in this case is `categorical_crossentropy`. It measures the distance between two probability distributions: \n",
        "in our case, between the probability distribution output by our network, and the true distribution of the labels. By minimizing the \n",
        "distance between these two distributions, we train our network to output something as close as possible to the true labels."
      ]
    },
    {
      "cell_type": "code",
      "metadata": {
        "id": "z3G_gXkX8GOi",
        "colab_type": "code",
        "colab": {}
      },
      "source": [
        "model.compile(optimizer='rmsprop',\n",
        "              loss='categorical_crossentropy',\n",
        "              metrics=['accuracy'])"
      ],
      "execution_count": 0,
      "outputs": []
    },
    {
      "cell_type": "markdown",
      "metadata": {
        "id": "xjAhvj7R8GOk",
        "colab_type": "text"
      },
      "source": [
        "## Validating our approach\n",
        "\n",
        "Let's set apart 1,000 samples in our training data to use as a validation set:"
      ]
    },
    {
      "cell_type": "code",
      "metadata": {
        "id": "K5c6yU-G8GOk",
        "colab_type": "code",
        "colab": {}
      },
      "source": [
        "x_val = x_train[:1000]\n",
        "partial_x_train = x_train[1000:]\n",
        "\n",
        "y_val = one_hot_train_labels[:1000]\n",
        "partial_y_train = one_hot_train_labels[1000:]"
      ],
      "execution_count": 0,
      "outputs": []
    },
    {
      "cell_type": "markdown",
      "metadata": {
        "id": "G1z5Zw6t8GOm",
        "colab_type": "text"
      },
      "source": [
        "Now let's train our network for 20 epochs:"
      ]
    },
    {
      "cell_type": "code",
      "metadata": {
        "id": "29l8gXlN8GOm",
        "colab_type": "code",
        "outputId": "bcc187ae-80da-492e-a722-2c6021fe1a80",
        "colab": {
          "base_uri": "https://localhost:8080/",
          "height": 768
        }
      },
      "source": [
        "history = model.fit(partial_x_train,\n",
        "                    partial_y_train,\n",
        "                    epochs=20,\n",
        "                    batch_size=512,\n",
        "                    validation_data=(x_val, y_val))"
      ],
      "execution_count": 17,
      "outputs": [
        {
          "output_type": "stream",
          "text": [
            "WARNING:tensorflow:From /usr/local/lib/python3.6/dist-packages/keras/backend/tensorflow_backend.py:422: The name tf.global_variables is deprecated. Please use tf.compat.v1.global_variables instead.\n",
            "\n",
            "Train on 7982 samples, validate on 1000 samples\n",
            "Epoch 1/20\n",
            "7982/7982 [==============================] - 1s 176us/step - loss: 2.7780 - accuracy: 0.4996 - val_loss: 1.8557 - val_accuracy: 0.6170\n",
            "Epoch 2/20\n",
            "7982/7982 [==============================] - 1s 126us/step - loss: 1.5113 - accuracy: 0.6964 - val_loss: 1.3324 - val_accuracy: 0.7130\n",
            "Epoch 3/20\n",
            "7982/7982 [==============================] - 1s 122us/step - loss: 1.0843 - accuracy: 0.7721 - val_loss: 1.1397 - val_accuracy: 0.7640\n",
            "Epoch 4/20\n",
            "7982/7982 [==============================] - 1s 123us/step - loss: 0.8487 - accuracy: 0.8211 - val_loss: 1.0364 - val_accuracy: 0.7940\n",
            "Epoch 5/20\n",
            "7982/7982 [==============================] - 1s 124us/step - loss: 0.6765 - accuracy: 0.8593 - val_loss: 0.9729 - val_accuracy: 0.7930\n",
            "Epoch 6/20\n",
            "7982/7982 [==============================] - 1s 127us/step - loss: 0.5501 - accuracy: 0.8884 - val_loss: 0.9265 - val_accuracy: 0.8150\n",
            "Epoch 7/20\n",
            "7982/7982 [==============================] - 1s 124us/step - loss: 0.4453 - accuracy: 0.9093 - val_loss: 0.9254 - val_accuracy: 0.8030\n",
            "Epoch 8/20\n",
            "7982/7982 [==============================] - 1s 125us/step - loss: 0.3626 - accuracy: 0.9255 - val_loss: 0.9182 - val_accuracy: 0.8110\n",
            "Epoch 9/20\n",
            "7982/7982 [==============================] - 1s 127us/step - loss: 0.2992 - accuracy: 0.9355 - val_loss: 0.9121 - val_accuracy: 0.8150\n",
            "Epoch 10/20\n",
            "7982/7982 [==============================] - 1s 125us/step - loss: 0.2514 - accuracy: 0.9470 - val_loss: 0.8797 - val_accuracy: 0.8230\n",
            "Epoch 11/20\n",
            "7982/7982 [==============================] - 1s 124us/step - loss: 0.2168 - accuracy: 0.9468 - val_loss: 0.9005 - val_accuracy: 0.8270\n",
            "Epoch 12/20\n",
            "7982/7982 [==============================] - 1s 124us/step - loss: 0.1873 - accuracy: 0.9515 - val_loss: 0.9544 - val_accuracy: 0.8080\n",
            "Epoch 13/20\n",
            "7982/7982 [==============================] - 1s 123us/step - loss: 0.1695 - accuracy: 0.9526 - val_loss: 0.9981 - val_accuracy: 0.8120\n",
            "Epoch 14/20\n",
            "7982/7982 [==============================] - 1s 124us/step - loss: 0.1546 - accuracy: 0.9549 - val_loss: 0.9369 - val_accuracy: 0.8220\n",
            "Epoch 15/20\n",
            "7982/7982 [==============================] - 1s 123us/step - loss: 0.1416 - accuracy: 0.9565 - val_loss: 1.0523 - val_accuracy: 0.7980\n",
            "Epoch 16/20\n",
            "7982/7982 [==============================] - 1s 123us/step - loss: 0.1327 - accuracy: 0.9568 - val_loss: 0.9876 - val_accuracy: 0.8150\n",
            "Epoch 17/20\n",
            "7982/7982 [==============================] - 1s 124us/step - loss: 0.1289 - accuracy: 0.9550 - val_loss: 0.9808 - val_accuracy: 0.8240\n",
            "Epoch 18/20\n",
            "7982/7982 [==============================] - 1s 124us/step - loss: 0.1179 - accuracy: 0.9573 - val_loss: 1.0242 - val_accuracy: 0.8110\n",
            "Epoch 19/20\n",
            "7982/7982 [==============================] - 1s 124us/step - loss: 0.1146 - accuracy: 0.9574 - val_loss: 1.0466 - val_accuracy: 0.8110\n",
            "Epoch 20/20\n",
            "7982/7982 [==============================] - 1s 122us/step - loss: 0.1125 - accuracy: 0.9589 - val_loss: 1.0472 - val_accuracy: 0.8130\n"
          ],
          "name": "stdout"
        }
      ]
    },
    {
      "cell_type": "markdown",
      "metadata": {
        "id": "-1Aleyfp8GOo",
        "colab_type": "text"
      },
      "source": [
        "Let's display its loss and accuracy curves:"
      ]
    },
    {
      "cell_type": "code",
      "metadata": {
        "id": "EY39xRlD8GOo",
        "colab_type": "code",
        "outputId": "9449940b-b720-451d-8f34-7b2b13a94fcb",
        "colab": {
          "base_uri": "https://localhost:8080/",
          "height": 295
        }
      },
      "source": [
        "import matplotlib.pyplot as plt\n",
        "\n",
        "loss = history.history['loss']\n",
        "val_loss = history.history['val_loss']\n",
        "\n",
        "epochs = range(1, len(loss) + 1)\n",
        "\n",
        "plt.plot(epochs, loss, 'bo', label='Training loss')\n",
        "plt.plot(epochs, val_loss, 'b', label='Validation loss')\n",
        "plt.title('Training and validation loss')\n",
        "plt.xlabel('Epochs')\n",
        "plt.ylabel('Loss')\n",
        "plt.legend()\n",
        "\n",
        "plt.show()"
      ],
      "execution_count": 18,
      "outputs": [
        {
          "output_type": "display_data",
          "data": {
            "image/png": "[encoded data removed]",
            "text/plain": [
              "<Figure size 432x288 with 1 Axes>"
            ]
          },
          "metadata": {
            "tags": []
          }
        }
      ]
    },
    {
      "cell_type": "code",
      "metadata": {
        "id": "LtVq42NU8GOr",
        "colab_type": "code",
        "outputId": "1aa96823-6b87-430d-db83-de4f22f5c087",
        "colab": {
          "base_uri": "https://localhost:8080/",
          "height": 295
        }
      },
      "source": [
        "plt.clf()   # clear figure\n",
        "\n",
        "acc = history.history['accuracy']\n",
        "val_acc = history.history['val_accuracy']\n",
        "\n",
        "plt.plot(epochs, acc, 'bo', label='Training acc')\n",
        "plt.plot(epochs, val_acc, 'b', label='Validation acc')\n",
        "plt.title('Training and validation accuracy')\n",
        "plt.xlabel('Epochs')\n",
        "plt.ylabel('Loss')\n",
        "plt.legend()\n",
        "\n",
        "plt.show()"
      ],
      "execution_count": 20,
      "outputs": [
        {
          "output_type": "display_data",
          "data": {
            "image/png": "[encoded data removed]",
            "text/plain": [
              "<Figure size 432x288 with 1 Axes>"
            ]
          },
          "metadata": {
            "tags": []
          }
        }
      ]
    },
    {
      "cell_type": "markdown",
      "metadata": {
        "id": "-6v1-Qkd8GOt",
        "colab_type": "text"
      },
      "source": [
        "It seems that the network starts overfitting after 8 epochs. Let's train a new network from scratch for 8 epochs, then let's evaluate it on \n",
        "the test set:"
      ]
    },
    {
      "cell_type": "code",
      "metadata": {
        "id": "RvXVE7LC8GOu",
        "colab_type": "code",
        "outputId": "9a7a581f-a439-4083-ec33-e25950cdd16e",
        "colab": {
          "base_uri": "https://localhost:8080/",
          "height": 323
        }
      },
      "source": [
        "model = models.Sequential()\n",
        "model.add(layers.Dense(64, activation='relu', input_shape=(10000,)))\n",
        "model.add(layers.Dense(64, activation='relu'))\n",
        "model.add(layers.Dense(46, activation='softmax'))\n",
        "\n",
        "model.compile(optimizer='rmsprop',\n",
        "              loss='categorical_crossentropy',\n",
        "              metrics=['accuracy'])\n",
        "model.fit(partial_x_train,\n",
        "          partial_y_train,\n",
        "          epochs=8,\n",
        "          batch_size=512,\n",
        "          validation_data=(x_val, y_val))\n",
        "results = model.evaluate(x_test, one_hot_test_labels)"
      ],
      "execution_count": 21,
      "outputs": [
        {
          "output_type": "stream",
          "text": [
            "Train on 7982 samples, validate on 1000 samples\n",
            "Epoch 1/8\n",
            "7982/7982 [==============================] - 1s 131us/step - loss: 2.5474 - accuracy: 0.5197 - val_loss: 1.7142 - val_accuracy: 0.6240\n",
            "Epoch 2/8\n",
            "7982/7982 [==============================] - 1s 123us/step - loss: 1.4168 - accuracy: 0.6962 - val_loss: 1.3114 - val_accuracy: 0.7020\n",
            "Epoch 3/8\n",
            "7982/7982 [==============================] - 1s 126us/step - loss: 1.0509 - accuracy: 0.7727 - val_loss: 1.1189 - val_accuracy: 0.7620\n",
            "Epoch 4/8\n",
            "7982/7982 [==============================] - 1s 124us/step - loss: 0.8235 - accuracy: 0.8246 - val_loss: 1.0241 - val_accuracy: 0.7860\n",
            "Epoch 5/8\n",
            "7982/7982 [==============================] - 1s 124us/step - loss: 0.6429 - accuracy: 0.8612 - val_loss: 0.9513 - val_accuracy: 0.8110\n",
            "Epoch 6/8\n",
            "7982/7982 [==============================] - 1s 123us/step - loss: 0.5135 - accuracy: 0.8896 - val_loss: 0.9162 - val_accuracy: 0.8170\n",
            "Epoch 7/8\n",
            "7982/7982 [==============================] - 1s 124us/step - loss: 0.4138 - accuracy: 0.9110 - val_loss: 0.8980 - val_accuracy: 0.8220\n",
            "Epoch 8/8\n",
            "7982/7982 [==============================] - 1s 122us/step - loss: 0.3331 - accuracy: 0.9265 - val_loss: 0.8810 - val_accuracy: 0.8280\n",
            "2246/2246 [==============================] - 0s 89us/step\n"
          ],
          "name": "stdout"
        }
      ]
    },
    {
      "cell_type": "code",
      "metadata": {
        "id": "vyT9GOCw8GOv",
        "colab_type": "code",
        "outputId": "8370438c-7caa-4773-823a-5e2e0486f580",
        "colab": {
          "base_uri": "https://localhost:8080/",
          "height": 34
        }
      },
      "source": [
        "results"
      ],
      "execution_count": 22,
      "outputs": [
        {
          "output_type": "execute_result",
          "data": {
            "text/plain": [
              "[0.956040233984019, 0.7876224517822266]"
            ]
          },
          "metadata": {
            "tags": []
          },
          "execution_count": 22
        }
      ]
    },
    {
      "cell_type": "markdown",
      "metadata": {
        "id": "dDWqkNq38GOx",
        "colab_type": "text"
      },
      "source": [
        "\n",
        "Our approach reaches an accuracy of ~78%. With a balanced binary classification problem, the accuracy reached by a purely random classifier \n",
        "would be 50%, but in our case it is closer to 19%, so our results seem pretty good, at least when compared to a random baseline:"
      ]
    },
    {
      "cell_type": "code",
      "metadata": {
        "id": "FCnNPw1k8GOx",
        "colab_type": "code",
        "outputId": "01675696-55eb-4645-f0ea-1bbc76573ea5",
        "colab": {
          "base_uri": "https://localhost:8080/",
          "height": 34
        }
      },
      "source": [
        "import copy\n",
        "\n",
        "test_labels_copy = copy.copy(test_labels)\n",
        "np.random.shuffle(test_labels_copy)\n",
        "float(np.sum(np.array(test_labels) == np.array(test_labels_copy))) / len(test_labels)"
      ],
      "execution_count": 23,
      "outputs": [
        {
          "output_type": "execute_result",
          "data": {
            "text/plain": [
              "0.19946571682991987"
            ]
          },
          "metadata": {
            "tags": []
          },
          "execution_count": 23
        }
      ]
    },
    {
      "cell_type": "markdown",
      "metadata": {
        "id": "5JhUCvhD8GO0",
        "colab_type": "text"
      },
      "source": [
        "## Generating predictions on new data\n",
        "\n",
        "We can verify that the `predict` method of our model instance returns a probability distribution over all 46 topics. Let's generate topic \n",
        "predictions for all of the test data:"
      ]
    },
    {
      "cell_type": "code",
      "metadata": {
        "id": "npfkvwY68GO0",
        "colab_type": "code",
        "colab": {}
      },
      "source": [
        "predictions = model.predict(x_test)"
      ],
      "execution_count": 0,
      "outputs": []
    },
    {
      "cell_type": "markdown",
      "metadata": {
        "id": "pDxxMOGe8GO3",
        "colab_type": "text"
      },
      "source": [
        "Each entry in `predictions` is a vector of length 46:"
      ]
    },
    {
      "cell_type": "code",
      "metadata": {
        "id": "CaAYTt0c8GO3",
        "colab_type": "code",
        "outputId": "08151416-67a3-453f-e742-14ed730f8418",
        "colab": {
          "base_uri": "https://localhost:8080/",
          "height": 34
        }
      },
      "source": [
        "predictions[0].shape"
      ],
      "execution_count": 25,
      "outputs": [
        {
          "output_type": "execute_result",
          "data": {
            "text/plain": [
              "(46,)"
            ]
          },
          "metadata": {
            "tags": []
          },
          "execution_count": 25
        }
      ]
    },
    {
      "cell_type": "markdown",
      "metadata": {
        "id": "eziE1O-a8GO5",
        "colab_type": "text"
      },
      "source": [
        "The coefficients in this vector sum to 1:"
      ]
    },
    {
      "cell_type": "code",
      "metadata": {
        "id": "dM1A6JZwL73Z",
        "colab_type": "code",
        "colab": {
          "base_uri": "https://localhost:8080/",
          "height": 221
        },
        "outputId": "bfc3bf58-8c19-4f83-d3a5-87cce5adfe02"
      },
      "source": [
        "predictions[0]"
      ],
      "execution_count": 26,
      "outputs": [
        {
          "output_type": "execute_result",
          "data": {
            "text/plain": [
              "array([7.2021161e-05, 1.6916916e-04, 2.0091306e-06, 9.2808157e-01,\n",
              "       5.6201238e-02, 5.5627934e-06, 2.1523736e-05, 7.0549526e-05,\n",
              "       2.5530155e-03, 1.1539140e-04, 3.0568415e-05, 1.7040956e-03,\n",
              "       9.7423166e-05, 5.0247699e-04, 4.7742433e-05, 2.0891743e-05,\n",
              "       4.1330402e-04, 1.3512331e-04, 1.4280237e-04, 2.2386420e-03,\n",
              "       3.5437304e-03, 7.1799516e-04, 3.0854255e-06, 3.2451819e-04,\n",
              "       2.0964771e-05, 4.9517505e-05, 1.8690528e-04, 7.3971969e-06,\n",
              "       8.4954427e-06, 8.0328720e-04, 4.6888315e-05, 1.1994803e-04,\n",
              "       1.5319757e-04, 6.8935060e-06, 3.5472429e-05, 1.5218517e-05,\n",
              "       9.3176903e-04, 1.2531066e-04, 1.5390391e-05, 7.8769306e-05,\n",
              "       3.0500742e-05, 2.9553761e-05, 2.4977794e-06, 5.8156835e-05,\n",
              "       1.5438438e-06, 5.7862249e-05], dtype=float32)"
            ]
          },
          "metadata": {
            "tags": []
          },
          "execution_count": 26
        }
      ]
    },
    {
      "cell_type": "code",
      "metadata": {
        "id": "UpQdY6hj8GO5",
        "colab_type": "code",
        "outputId": "41777971-2255-4102-b5a9-3679689c5cbc",
        "colab": {
          "base_uri": "https://localhost:8080/",
          "height": 34
        }
      },
      "source": [
        "np.sum(predictions[0])"
      ],
      "execution_count": 27,
      "outputs": [
        {
          "output_type": "execute_result",
          "data": {
            "text/plain": [
              "1.0"
            ]
          },
          "metadata": {
            "tags": []
          },
          "execution_count": 27
        }
      ]
    },
    {
      "cell_type": "markdown",
      "metadata": {
        "id": "4I9O48qE8GO6",
        "colab_type": "text"
      },
      "source": [
        "The largest entry is the predicted class, i.e. the class with the highest probability:"
      ]
    },
    {
      "cell_type": "code",
      "metadata": {
        "id": "uxlTlHQX8GO7",
        "colab_type": "code",
        "outputId": "a525c8b0-5c08-4263-d294-80d8eef7bc5b",
        "colab": {
          "base_uri": "https://localhost:8080/",
          "height": 34
        }
      },
      "source": [
        "np.argmax(predictions[0])"
      ],
      "execution_count": 28,
      "outputs": [
        {
          "output_type": "execute_result",
          "data": {
            "text/plain": [
              "3"
            ]
          },
          "metadata": {
            "tags": []
          },
          "execution_count": 28
        }
      ]
    },
    {
      "cell_type": "markdown",
      "metadata": {
        "id": "VYi1tq7A8GO9",
        "colab_type": "text"
      },
      "source": [
        "## A different way to handle the labels and the loss\n",
        "\n",
        "We mentioned earlier that another way to encode the labels would be to cast them as an integer tensor, like such:"
      ]
    },
    {
      "cell_type": "code",
      "metadata": {
        "id": "3iZV5TN98GO9",
        "colab_type": "code",
        "colab": {}
      },
      "source": [
        "y_train = np.array(train_labels)\n",
        "y_test = np.array(test_labels)"
      ],
      "execution_count": 0,
      "outputs": []
    },
    {
      "cell_type": "markdown",
      "metadata": {
        "id": "LKPiGeb98GO_",
        "colab_type": "text"
      },
      "source": [
        "\n",
        "The only thing it would change is the choice of the loss function. Our previous loss, `categorical_crossentropy`, expects the labels to \n",
        "follow a categorical encoding. With integer labels, we should use `sparse_categorical_crossentropy`:"
      ]
    },
    {
      "cell_type": "code",
      "metadata": {
        "id": "68ePtBa28GO_",
        "colab_type": "code",
        "colab": {}
      },
      "source": [
        "model.compile(optimizer='rmsprop', loss='sparse_categorical_crossentropy', metrics=['acc'])"
      ],
      "execution_count": 0,
      "outputs": []
    },
    {
      "cell_type": "markdown",
      "metadata": {
        "id": "rqupkb_m8GPB",
        "colab_type": "text"
      },
      "source": [
        "This new loss function is still mathematically the same as `categorical_crossentropy`; it just has a different interface."
      ]
    },
    {
      "cell_type": "markdown",
      "metadata": {
        "id": "unDK9B-f8GPB",
        "colab_type": "text"
      },
      "source": [
        "## On the importance of having sufficiently large intermediate layers\n",
        "\n",
        "\n",
        "We mentioned earlier that since our final outputs were 46-dimensional, we should avoid intermediate layers with much less than 46 hidden \n",
        "units. Now let's try to see what happens when we introduce an information bottleneck by having intermediate layers significantly less than \n",
        "46-dimensional, e.g. 4-dimensional."
      ]
    },
    {
      "cell_type": "code",
      "metadata": {
        "id": "5RSgjt-A8GPC",
        "colab_type": "code",
        "outputId": "81e7c452-c28a-4b6f-f9ca-a3f12bb4fba6",
        "colab": {
          "base_uri": "https://localhost:8080/",
          "height": 731
        }
      },
      "source": [
        "model = models.Sequential()\n",
        "model.add(layers.Dense(64, activation='relu', input_shape=(10000,)))\n",
        "model.add(layers.Dense(4, activation='relu'))\n",
        "model.add(layers.Dense(46, activation='softmax'))\n",
        "\n",
        "model.compile(optimizer='rmsprop',\n",
        "              loss='categorical_crossentropy',\n",
        "              metrics=['accuracy'])\n",
        "model.fit(partial_x_train,\n",
        "          partial_y_train,\n",
        "          epochs=20,\n",
        "          batch_size=128,\n",
        "          validation_data=(x_val, y_val))"
      ],
      "execution_count": 31,
      "outputs": [
        {
          "output_type": "stream",
          "text": [
            "Train on 7982 samples, validate on 1000 samples\n",
            "Epoch 1/20\n",
            "7982/7982 [==============================] - 1s 178us/step - loss: 2.9153 - accuracy: 0.4282 - val_loss: 2.0855 - val_accuracy: 0.5880\n",
            "Epoch 2/20\n",
            "7982/7982 [==============================] - 1s 169us/step - loss: 1.7546 - accuracy: 0.6037 - val_loss: 1.6364 - val_accuracy: 0.5980\n",
            "Epoch 3/20\n",
            "7982/7982 [==============================] - 1s 171us/step - loss: 1.4475 - accuracy: 0.6304 - val_loss: 1.5154 - val_accuracy: 0.6220\n",
            "Epoch 4/20\n",
            "7982/7982 [==============================] - 1s 167us/step - loss: 1.2693 - accuracy: 0.6689 - val_loss: 1.4444 - val_accuracy: 0.6440\n",
            "Epoch 5/20\n",
            "7982/7982 [==============================] - 1s 169us/step - loss: 1.1285 - accuracy: 0.7179 - val_loss: 1.3829 - val_accuracy: 0.6470\n",
            "Epoch 6/20\n",
            "7982/7982 [==============================] - 1s 168us/step - loss: 1.0063 - accuracy: 0.7410 - val_loss: 1.3374 - val_accuracy: 0.6650\n",
            "Epoch 7/20\n",
            "7982/7982 [==============================] - 1s 167us/step - loss: 0.9023 - accuracy: 0.7588 - val_loss: 1.3174 - val_accuracy: 0.6780\n",
            "Epoch 8/20\n",
            "7982/7982 [==============================] - 1s 169us/step - loss: 0.8155 - accuracy: 0.7731 - val_loss: 1.3141 - val_accuracy: 0.6810\n",
            "Epoch 9/20\n",
            "7982/7982 [==============================] - 1s 169us/step - loss: 0.7381 - accuracy: 0.7932 - val_loss: 1.3279 - val_accuracy: 0.6970\n",
            "Epoch 10/20\n",
            "7982/7982 [==============================] - 1s 169us/step - loss: 0.6723 - accuracy: 0.8207 - val_loss: 1.3281 - val_accuracy: 0.7100\n",
            "Epoch 11/20\n",
            "7982/7982 [==============================] - 1s 173us/step - loss: 0.6144 - accuracy: 0.8430 - val_loss: 1.3822 - val_accuracy: 0.7080\n",
            "Epoch 12/20\n",
            "7982/7982 [==============================] - 1s 171us/step - loss: 0.5654 - accuracy: 0.8497 - val_loss: 1.4229 - val_accuracy: 0.7230\n",
            "Epoch 13/20\n",
            "7982/7982 [==============================] - 1s 172us/step - loss: 0.5265 - accuracy: 0.8592 - val_loss: 1.4428 - val_accuracy: 0.7180\n",
            "Epoch 14/20\n",
            "7982/7982 [==============================] - 1s 168us/step - loss: 0.4937 - accuracy: 0.8680 - val_loss: 1.4828 - val_accuracy: 0.7170\n",
            "Epoch 15/20\n",
            "7982/7982 [==============================] - 1s 170us/step - loss: 0.4693 - accuracy: 0.8691 - val_loss: 1.5481 - val_accuracy: 0.7120\n",
            "Epoch 16/20\n",
            "7982/7982 [==============================] - 1s 168us/step - loss: 0.4481 - accuracy: 0.8733 - val_loss: 1.6184 - val_accuracy: 0.7160\n",
            "Epoch 17/20\n",
            "7982/7982 [==============================] - 1s 170us/step - loss: 0.4244 - accuracy: 0.8779 - val_loss: 1.7030 - val_accuracy: 0.7140\n",
            "Epoch 18/20\n",
            "7982/7982 [==============================] - 1s 173us/step - loss: 0.4067 - accuracy: 0.8805 - val_loss: 1.8367 - val_accuracy: 0.6980\n",
            "Epoch 19/20\n",
            "7982/7982 [==============================] - 1s 176us/step - loss: 0.3926 - accuracy: 0.8835 - val_loss: 1.7401 - val_accuracy: 0.7140\n",
            "Epoch 20/20\n",
            "7982/7982 [==============================] - 1s 174us/step - loss: 0.3781 - accuracy: 0.8826 - val_loss: 1.8092 - val_accuracy: 0.7160\n"
          ],
          "name": "stdout"
        },
        {
          "output_type": "execute_result",
          "data": {
            "text/plain": [
              "<keras.callbacks.callbacks.History at 0x7f4cdc305668>"
            ]
          },
          "metadata": {
            "tags": []
          },
          "execution_count": 31
        }
      ]
    },
    {
      "cell_type": "markdown",
      "metadata": {
        "id": "e05rM2N38GPD",
        "colab_type": "text"
      },
      "source": [
        "\n",
        "Our network now seems to peak at ~71% test accuracy, a 8% absolute drop. This drop is mostly due to the fact that we are now trying to \n",
        "compress a lot of information (enough information to recover the separation hyperplanes of 46 classes) into an intermediate space that is \n",
        "too low-dimensional. The network is able to cram _most_ of the necessary information into these 8-dimensional representations, but not all \n",
        "of it."
      ]
    },
    {
      "cell_type": "markdown",
      "metadata": {
        "id": "wZEPrN5X8GPD",
        "colab_type": "text"
      },
      "source": [
        "## Further experiments\n",
        "\n",
        "* Try using larger or smaller layers: 32 units, 128 units...\n",
        "* We were using two hidden layers. Now try to use a single hidden layer, or three hidden layers."
      ]
    },
    {
      "cell_type": "markdown",
      "metadata": {
        "id": "um0T15uk8GPE",
        "colab_type": "text"
      },
      "source": [
        "## Wrapping up\n",
        "\n",
        "\n",
        "Here's what you should take away from this example:\n",
        "\n",
        "* If you are trying to classify data points between N classes, your network should end with a `Dense` layer of size N.\n",
        "* In a single-label, multi-class classification problem, your network should end with a `softmax` activation, so that it will output a \n",
        "probability distribution over the N output classes.\n",
        "* _Categorical crossentropy_ is almost always the loss function you should use for such problems. It minimizes the distance between the \n",
        "probability distributions output by the network, and the true distribution of the targets.\n",
        "* There are two ways to handle labels in multi-class classification:\n",
        "    ** Encoding the labels via \"categorical encoding\" (also known as \"one-hot encoding\") and using `categorical_crossentropy` as your loss \n",
        "function.\n",
        "    ** Encoding the labels as integers and using the `sparse_categorical_crossentropy` loss function.\n",
        "* If you need to classify data into a large number of categories, then you should avoid creating information bottlenecks in your network by having \n",
        "intermediate layers that are too small."
      ]
    }
  ]
}