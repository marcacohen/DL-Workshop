{
  "nbformat": 4,
  "nbformat_minor": 0,
  "metadata": {
    "kernelspec": {
      "name": "python3",
      "display_name": "Python 3"
    },
    "language_info": {
      "codemirror_mode": {
        "name": "ipython",
        "version": 3
      },
      "file_extension": ".py",
      "mimetype": "text/x-python",
      "name": "python",
      "nbconvert_exporter": "python",
      "pygments_lexer": "ipython3",
      "version": "3.5.2"
    },
    "colab": {
      "name": "mco-3.7-predicting-house-prices.ipynb",
      "provenance": [],
      "include_colab_link": true
    },
    "accelerator": "GPU"
  },
  "cells": [
    {
      "cell_type": "markdown",
      "metadata": {
        "id": "view-in-github",
        "colab_type": "text"
      },
      "source": [
        "<a href=\"https://colab.research.google.com/github/marcacohen/DL-Workshop/blob/master/mco_3_7_predicting_house_prices.ipynb\" target=\"_parent\"><img src=\"https://colab.research.google.com/assets/colab-badge.svg\" alt=\"Open In Colab\"/></a>"
      ]
    },
    {
      "cell_type": "markdown",
      "metadata": {
        "id": "0qRUM5FrNoKE",
        "colab_type": "text"
      },
      "source": [
        "## Setup\n",
        "1. Upgrade keras to latest version via  \n",
        "2. Restart runtime to enable new keras version"
      ]
    },
    {
      "cell_type": "code",
      "metadata": {
        "id": "Yt2Ol1hqNqcS",
        "colab_type": "code",
        "colab": {
          "base_uri": "https://localhost:8080/",
          "height": 272
        },
        "outputId": "5227c7a7-4bd5-4e81-def3-0bb81e20df4b"
      },
      "source": [
        "#Run this cell. Once installation is complete, click the \"Restart Runtime\" button\" in the output below before proceeding\n",
        "!pip install keras --upgrade"
      ],
      "execution_count": 1,
      "outputs": [
        {
          "output_type": "stream",
          "text": [
            "Collecting keras\n",
            "\u001b[?25l  Downloading https://files.pythonhosted.org/packages/1b/18/2e1ef121e5560ac24c7ac9e363aa5fa7006c40563c989e7211aba95b793a/Keras-2.3.0-py2.py3-none-any.whl (377kB)\n",
            "\u001b[K     |████████████████████████████████| 378kB 2.9MB/s \n",
            "\u001b[?25hRequirement already satisfied, skipping upgrade: keras-applications>=1.0.6 in /usr/local/lib/python3.6/dist-packages (from keras) (1.0.8)\n",
            "Requirement already satisfied, skipping upgrade: numpy>=1.9.1 in /usr/local/lib/python3.6/dist-packages (from keras) (1.16.5)\n",
            "Requirement already satisfied, skipping upgrade: keras-preprocessing>=1.0.5 in /usr/local/lib/python3.6/dist-packages (from keras) (1.1.0)\n",
            "Requirement already satisfied, skipping upgrade: h5py in /usr/local/lib/python3.6/dist-packages (from keras) (2.8.0)\n",
            "Requirement already satisfied, skipping upgrade: six>=1.9.0 in /usr/local/lib/python3.6/dist-packages (from keras) (1.12.0)\n",
            "Requirement already satisfied, skipping upgrade: pyyaml in /usr/local/lib/python3.6/dist-packages (from keras) (3.13)\n",
            "Requirement already satisfied, skipping upgrade: scipy>=0.14 in /usr/local/lib/python3.6/dist-packages (from keras) (1.3.1)\n",
            "Installing collected packages: keras\n",
            "  Found existing installation: Keras 2.2.5\n",
            "    Uninstalling Keras-2.2.5:\n",
            "      Successfully uninstalled Keras-2.2.5\n",
            "Successfully installed keras-2.3.0\n"
          ],
          "name": "stdout"
        }
      ]
    },
    {
      "cell_type": "code",
      "metadata": {
        "id": "fyDdWw7d8Sud",
        "colab_type": "code",
        "outputId": "8e2e5fc2-52ac-4a49-e852-36560a0b4867",
        "colab": {
          "base_uri": "https://localhost:8080/",
          "height": 51
        }
      },
      "source": [
        "import keras\n",
        "keras.__version__"
      ],
      "execution_count": 2,
      "outputs": [
        {
          "output_type": "stream",
          "text": [
            "Using TensorFlow backend.\n"
          ],
          "name": "stderr"
        },
        {
          "output_type": "execute_result",
          "data": {
            "text/plain": [
              "'2.3.0'"
            ]
          },
          "metadata": {
            "tags": []
          },
          "execution_count": 2
        }
      ]
    },
    {
      "cell_type": "markdown",
      "metadata": {
        "id": "SaGla1lk8Suh",
        "colab_type": "text"
      },
      "source": [
        "# Predicting house prices: a regression example\n",
        "\n",
        "This notebook contains the code samples found in Chapter 3, Section 6 of [Deep Learning with Python](https://www.manning.com/books/deep-learning-with-python?a_aid=keras&a_bid=76564dff). Note that the original text features far more content, in particular further explanations and figures: in this notebook, you will only find source code and related comments.\n",
        "\n",
        "----\n",
        "\n",
        "\n",
        "In our two previous examples, we were considering classification problems, where the goal was to predict a single discrete label of an \n",
        "input data point. Another common type of machine learning problem is \"regression\", which consists of predicting a continuous value instead \n",
        "of a discrete label. For instance, predicting the temperature tomorrow, given meteorological data, or predicting the time that a \n",
        "software project will take to complete, given its specifications.\n",
        "\n",
        "Do not mix up \"regression\" with the algorithm \"logistic regression\": confusingly, \"logistic regression\" is not a regression algorithm, \n",
        "it is a classification algorithm."
      ]
    },
    {
      "cell_type": "markdown",
      "metadata": {
        "id": "WfmLKTOi8Sui",
        "colab_type": "text"
      },
      "source": [
        "## The Boston Housing Price dataset\n",
        "\n",
        "\n",
        "We will be attempting to predict the median price of homes in a given Boston suburb in the mid-1970s, given a few data points about the \n",
        "suburb at the time, such as the crime rate, the local property tax rate, etc.\n",
        "\n",
        "The dataset we will be using has another interesting difference from our two previous examples: it has very few data points, only 506 in \n",
        "total, split between 404 training samples and 102 test samples, and each \"feature\" in the input data (e.g. the crime rate is a feature) has \n",
        "a different scale. For instance some values are proportions, which take a values between 0 and 1, others take values between 1 and 12, \n",
        "others between 0 and 100...\n",
        "\n",
        "Let's take a look at the data:"
      ]
    },
    {
      "cell_type": "code",
      "metadata": {
        "id": "qdUpRrEX8Sui",
        "colab_type": "code",
        "colab": {
          "base_uri": "https://localhost:8080/",
          "height": 51
        },
        "outputId": "f6f13cbc-bbf0-49d8-ee7b-c16f87c07724"
      },
      "source": [
        "from keras.datasets import boston_housing\n",
        "\n",
        "(train_data, train_targets), (test_data, test_targets) =  boston_housing.load_data()"
      ],
      "execution_count": 3,
      "outputs": [
        {
          "output_type": "stream",
          "text": [
            "Downloading data from https://s3.amazonaws.com/keras-datasets/boston_housing.npz\n",
            "57344/57026 [==============================] - 0s 3us/step\n"
          ],
          "name": "stdout"
        }
      ]
    },
    {
      "cell_type": "code",
      "metadata": {
        "id": "SoE1VtzU8Suk",
        "colab_type": "code",
        "outputId": "9acd4192-5e5b-42d5-fd66-b0be8bc81a2b",
        "colab": {
          "base_uri": "https://localhost:8080/",
          "height": 34
        }
      },
      "source": [
        "train_data.shape"
      ],
      "execution_count": 4,
      "outputs": [
        {
          "output_type": "execute_result",
          "data": {
            "text/plain": [
              "(404, 13)"
            ]
          },
          "metadata": {
            "tags": []
          },
          "execution_count": 4
        }
      ]
    },
    {
      "cell_type": "code",
      "metadata": {
        "id": "DNvUr2s88Sum",
        "colab_type": "code",
        "outputId": "9e5779f4-ad3e-4496-a09d-a69fa0a32e84",
        "colab": {
          "base_uri": "https://localhost:8080/",
          "height": 34
        }
      },
      "source": [
        "test_data.shape"
      ],
      "execution_count": 5,
      "outputs": [
        {
          "output_type": "execute_result",
          "data": {
            "text/plain": [
              "(102, 13)"
            ]
          },
          "metadata": {
            "tags": []
          },
          "execution_count": 5
        }
      ]
    },
    {
      "cell_type": "markdown",
      "metadata": {
        "id": "lMtPTYFe8Sun",
        "colab_type": "text"
      },
      "source": [
        "\n",
        "As you can see, we have 404 training samples and 102 test samples. The data comprises 13 features. The 13 features in the input data are as \n",
        "follow:\n",
        "\n",
        "1. Per capita crime rate.\n",
        "2. Proportion of residential land zoned for lots over 25,000 square feet.\n",
        "3. Proportion of non-retail business acres per town.\n",
        "4. Charles River dummy variable (= 1 if tract bounds river; 0 otherwise).\n",
        "5. Nitric oxides concentration (parts per 10 million).\n",
        "6. Average number of rooms per dwelling.\n",
        "7. Proportion of owner-occupied units built prior to 1940.\n",
        "8. Weighted distances to five Boston employment centres.\n",
        "9. Index of accessibility to radial highways.\n",
        "10. Full-value property-tax rate per $10,000.\n",
        "11. Pupil-teacher ratio by town.\n",
        "12. 1000 * (Bk - 0.63) ** 2 where Bk is the proportion of Black people by town.\n",
        "13. % lower status of the population.\n",
        "\n",
        "The targets are the median values of owner-occupied homes, in thousands of dollars:"
      ]
    },
    {
      "cell_type": "code",
      "metadata": {
        "id": "w60ehqtx8Suo",
        "colab_type": "code",
        "outputId": "58b0a1d6-6dd0-4c97-cbda-141cf4de7c9c",
        "colab": {
          "base_uri": "https://localhost:8080/",
          "height": 646
        }
      },
      "source": [
        "train_targets"
      ],
      "execution_count": 6,
      "outputs": [
        {
          "output_type": "execute_result",
          "data": {
            "text/plain": [
              "array([15.2, 42.3, 50. , 21.1, 17.7, 18.5, 11.3, 15.6, 15.6, 14.4, 12.1,\n",
              "       17.9, 23.1, 19.9, 15.7,  8.8, 50. , 22.5, 24.1, 27.5, 10.9, 30.8,\n",
              "       32.9, 24. , 18.5, 13.3, 22.9, 34.7, 16.6, 17.5, 22.3, 16.1, 14.9,\n",
              "       23.1, 34.9, 25. , 13.9, 13.1, 20.4, 20. , 15.2, 24.7, 22.2, 16.7,\n",
              "       12.7, 15.6, 18.4, 21. , 30.1, 15.1, 18.7,  9.6, 31.5, 24.8, 19.1,\n",
              "       22. , 14.5, 11. , 32. , 29.4, 20.3, 24.4, 14.6, 19.5, 14.1, 14.3,\n",
              "       15.6, 10.5,  6.3, 19.3, 19.3, 13.4, 36.4, 17.8, 13.5, 16.5,  8.3,\n",
              "       14.3, 16. , 13.4, 28.6, 43.5, 20.2, 22. , 23. , 20.7, 12.5, 48.5,\n",
              "       14.6, 13.4, 23.7, 50. , 21.7, 39.8, 38.7, 22.2, 34.9, 22.5, 31.1,\n",
              "       28.7, 46. , 41.7, 21. , 26.6, 15. , 24.4, 13.3, 21.2, 11.7, 21.7,\n",
              "       19.4, 50. , 22.8, 19.7, 24.7, 36.2, 14.2, 18.9, 18.3, 20.6, 24.6,\n",
              "       18.2,  8.7, 44. , 10.4, 13.2, 21.2, 37. , 30.7, 22.9, 20. , 19.3,\n",
              "       31.7, 32. , 23.1, 18.8, 10.9, 50. , 19.6,  5. , 14.4, 19.8, 13.8,\n",
              "       19.6, 23.9, 24.5, 25. , 19.9, 17.2, 24.6, 13.5, 26.6, 21.4, 11.9,\n",
              "       22.6, 19.6,  8.5, 23.7, 23.1, 22.4, 20.5, 23.6, 18.4, 35.2, 23.1,\n",
              "       27.9, 20.6, 23.7, 28. , 13.6, 27.1, 23.6, 20.6, 18.2, 21.7, 17.1,\n",
              "        8.4, 25.3, 13.8, 22.2, 18.4, 20.7, 31.6, 30.5, 20.3,  8.8, 19.2,\n",
              "       19.4, 23.1, 23. , 14.8, 48.8, 22.6, 33.4, 21.1, 13.6, 32.2, 13.1,\n",
              "       23.4, 18.9, 23.9, 11.8, 23.3, 22.8, 19.6, 16.7, 13.4, 22.2, 20.4,\n",
              "       21.8, 26.4, 14.9, 24.1, 23.8, 12.3, 29.1, 21. , 19.5, 23.3, 23.8,\n",
              "       17.8, 11.5, 21.7, 19.9, 25. , 33.4, 28.5, 21.4, 24.3, 27.5, 33.1,\n",
              "       16.2, 23.3, 48.3, 22.9, 22.8, 13.1, 12.7, 22.6, 15. , 15.3, 10.5,\n",
              "       24. , 18.5, 21.7, 19.5, 33.2, 23.2,  5. , 19.1, 12.7, 22.3, 10.2,\n",
              "       13.9, 16.3, 17. , 20.1, 29.9, 17.2, 37.3, 45.4, 17.8, 23.2, 29. ,\n",
              "       22. , 18. , 17.4, 34.6, 20.1, 25. , 15.6, 24.8, 28.2, 21.2, 21.4,\n",
              "       23.8, 31. , 26.2, 17.4, 37.9, 17.5, 20. ,  8.3, 23.9,  8.4, 13.8,\n",
              "        7.2, 11.7, 17.1, 21.6, 50. , 16.1, 20.4, 20.6, 21.4, 20.6, 36.5,\n",
              "        8.5, 24.8, 10.8, 21.9, 17.3, 18.9, 36.2, 14.9, 18.2, 33.3, 21.8,\n",
              "       19.7, 31.6, 24.8, 19.4, 22.8,  7.5, 44.8, 16.8, 18.7, 50. , 50. ,\n",
              "       19.5, 20.1, 50. , 17.2, 20.8, 19.3, 41.3, 20.4, 20.5, 13.8, 16.5,\n",
              "       23.9, 20.6, 31.5, 23.3, 16.8, 14. , 33.8, 36.1, 12.8, 18.3, 18.7,\n",
              "       19.1, 29. , 30.1, 50. , 50. , 22. , 11.9, 37.6, 50. , 22.7, 20.8,\n",
              "       23.5, 27.9, 50. , 19.3, 23.9, 22.6, 15.2, 21.7, 19.2, 43.8, 20.3,\n",
              "       33.2, 19.9, 22.5, 32.7, 22. , 17.1, 19. , 15. , 16.1, 25.1, 23.7,\n",
              "       28.7, 37.2, 22.6, 16.4, 25. , 29.8, 22.1, 17.4, 18.1, 30.3, 17.5,\n",
              "       24.7, 12.6, 26.5, 28.7, 13.3, 10.4, 24.4, 23. , 20. , 17.8,  7. ,\n",
              "       11.8, 24.4, 13.8, 19.4, 25.2, 19.4, 19.4, 29.1])"
            ]
          },
          "metadata": {
            "tags": []
          },
          "execution_count": 6
        }
      ]
    },
    {
      "cell_type": "markdown",
      "metadata": {
        "id": "JWi5ZIik8Suq",
        "colab_type": "text"
      },
      "source": [
        "\n",
        "The prices are typically between \\$10,000 and \\$50,000. If that sounds cheap, remember this was the mid-1970s, and these prices are not \n",
        "inflation-adjusted."
      ]
    },
    {
      "cell_type": "markdown",
      "metadata": {
        "id": "S9b0NH8-8Suq",
        "colab_type": "text"
      },
      "source": [
        "## Preparing the data\n",
        "\n",
        "\n",
        "It would be problematic to feed into a neural network values that all take wildly different ranges. The network might be able to \n",
        "automatically adapt to such heterogeneous data, but it would definitely make learning more difficult. A widespread best practice to deal \n",
        "with such data is to do feature-wise normalization: for each feature in the input data (a column in the input data matrix), we \n",
        "will subtract the mean of the feature and divide by the standard deviation, so that the feature will be centered around 0 and will have a \n",
        "unit standard deviation. This is easily done in Numpy:"
      ]
    },
    {
      "cell_type": "code",
      "metadata": {
        "id": "rAGP0Yba8Sur",
        "colab_type": "code",
        "colab": {}
      },
      "source": [
        "mean = train_data.mean(axis=0)\n",
        "train_data -= mean\n",
        "std = train_data.std(axis=0)\n",
        "train_data /= std\n",
        "\n",
        "test_data -= mean\n",
        "test_data /= std"
      ],
      "execution_count": 0,
      "outputs": []
    },
    {
      "cell_type": "markdown",
      "metadata": {
        "id": "zOXT8b0t8Sus",
        "colab_type": "text"
      },
      "source": [
        "\n",
        "Note that the quantities that we use for normalizing the test data have been computed using the training data. We should never use in our \n",
        "workflow any quantity computed on the test data, even for something as simple as data normalization."
      ]
    },
    {
      "cell_type": "markdown",
      "metadata": {
        "id": "SdYxbUfk8Sut",
        "colab_type": "text"
      },
      "source": [
        "## Building our network\n",
        "\n",
        "\n",
        "Because so few samples are available, we will be using a very small network with two \n",
        "hidden layers, each with 64 units. In general, the less training data you have, the worse overfitting will be, and using \n",
        "a small network is one way to mitigate overfitting."
      ]
    },
    {
      "cell_type": "code",
      "metadata": {
        "id": "lx-SXD1x8Sut",
        "colab_type": "code",
        "colab": {}
      },
      "source": [
        "from keras import models\n",
        "from keras import layers\n",
        "\n",
        "def build_model():\n",
        "    # Because we will need to instantiate\n",
        "    # the same model multiple times,\n",
        "    # we use a function to construct it.\n",
        "    model = models.Sequential()\n",
        "    model.add(layers.Dense(64, activation='relu',\n",
        "                           input_shape=(train_data.shape[1],)))\n",
        "    model.add(layers.Dense(64, activation='relu'))\n",
        "    model.add(layers.Dense(1))\n",
        "    model.compile(optimizer='rmsprop', loss='mse', metrics=['mae'])\n",
        "    return model"
      ],
      "execution_count": 0,
      "outputs": []
    },
    {
      "cell_type": "markdown",
      "metadata": {
        "id": "ch9ep6Ti8Suv",
        "colab_type": "text"
      },
      "source": [
        "\n",
        "Our network ends with a single unit, and no activation (i.e. it will be linear layer). \n",
        "This is a typical setup for scalar regression (i.e. regression where we are trying to predict a single continuous value). \n",
        "Applying an activation function would constrain the range that the output can take; for instance if \n",
        "we applied a `sigmoid` activation function to our last layer, the network could only learn to predict values between 0 and 1. Here, because \n",
        "the last layer is purely linear, the network is free to learn to predict values in any range.\n",
        "\n",
        "Note that we are compiling the network with the `mse` loss function -- Mean Squared Error, the square of the difference between the \n",
        "predictions and the targets, a widely used loss function for regression problems.\n",
        "\n",
        "We are also monitoring a new metric during training: `mae`. This stands for Mean Absolute Error. It is simply the absolute value of the \n",
        "difference between the predictions and the targets. For instance, a MAE of 0.5 on this problem would mean that our predictions are off by \n",
        "\\$500 on average."
      ]
    },
    {
      "cell_type": "markdown",
      "metadata": {
        "id": "bvsT9qDW8Suw",
        "colab_type": "text"
      },
      "source": [
        "## Validating our approach using K-fold validation\n",
        "\n",
        "\n",
        "To evaluate our network while we keep adjusting its parameters (such as the number of epochs used for training), we could simply split the \n",
        "data into a training set and a validation set, as we were doing in our previous examples. However, because we have so few data points, the \n",
        "validation set would end up being very small (e.g. about 100 examples). A consequence is that our validation scores may change a lot \n",
        "depending on _which_ data points we choose to use for validation and which we choose for training, i.e. the validation scores may have a \n",
        "high _variance_ with regard to the validation split. This would prevent us from reliably evaluating our model.\n",
        "\n",
        "The best practice in such situations is to use K-fold cross-validation. It consists of splitting the available data into K partitions \n",
        "(typically K=4 or 5), then instantiating K identical models, and training each one on K-1 partitions while evaluating on the remaining \n",
        "partition. The validation score for the model used would then be the average of the K validation scores obtained."
      ]
    },
    {
      "cell_type": "markdown",
      "metadata": {
        "id": "0OqZdvzC8Suw",
        "colab_type": "text"
      },
      "source": [
        "In terms of code, this is straightforward:"
      ]
    },
    {
      "cell_type": "code",
      "metadata": {
        "id": "NMTCQcj78Sux",
        "colab_type": "code",
        "outputId": "30e91523-4428-4134-d20a-57aa886f8980",
        "colab": {
          "base_uri": "https://localhost:8080/",
          "height": 139
        }
      },
      "source": [
        "import numpy as np\n",
        "\n",
        "k = 4\n",
        "num_val_samples = len(train_data) // k\n",
        "num_epochs = 100\n",
        "all_scores = []\n",
        "for i in range(k):\n",
        "    print('processing fold #', i)\n",
        "    # Prepare the validation data: data from partition # k\n",
        "    val_data = train_data[i * num_val_samples: (i + 1) * num_val_samples]\n",
        "    val_targets = train_targets[i * num_val_samples: (i + 1) * num_val_samples]\n",
        "\n",
        "    # Prepare the training data: data from all other partitions\n",
        "    partial_train_data = np.concatenate(\n",
        "        [train_data[:i * num_val_samples],\n",
        "         train_data[(i + 1) * num_val_samples:]],\n",
        "        axis=0)\n",
        "    partial_train_targets = np.concatenate(\n",
        "        [train_targets[:i * num_val_samples],\n",
        "         train_targets[(i + 1) * num_val_samples:]],\n",
        "        axis=0)\n",
        "\n",
        "    # Build the Keras model (already compiled)\n",
        "    model = build_model()\n",
        "    # Train the model (in silent mode, verbose=0)\n",
        "    model.fit(partial_train_data, partial_train_targets,\n",
        "              epochs=num_epochs, batch_size=1, verbose=0)\n",
        "    # Evaluate the model on the validation data\n",
        "    val_mse, val_mae = model.evaluate(val_data, val_targets, verbose=0)\n",
        "    all_scores.append(val_mae)"
      ],
      "execution_count": 9,
      "outputs": [
        {
          "output_type": "stream",
          "text": [
            "processing fold # 0\n",
            "WARNING:tensorflow:From /usr/local/lib/python3.6/dist-packages/keras/backend/tensorflow_backend.py:422: The name tf.global_variables is deprecated. Please use tf.compat.v1.global_variables instead.\n",
            "\n",
            "processing fold # 1\n",
            "processing fold # 2\n",
            "processing fold # 3\n"
          ],
          "name": "stdout"
        }
      ]
    },
    {
      "cell_type": "code",
      "metadata": {
        "id": "9SwcTexq8Suz",
        "colab_type": "code",
        "outputId": "f2f37f83-6439-48e7-d6ac-e702c1977399",
        "colab": {
          "base_uri": "https://localhost:8080/",
          "height": 85
        }
      },
      "source": [
        "all_scores #mae for each iteration of kfold validation"
      ],
      "execution_count": 10,
      "outputs": [
        {
          "output_type": "execute_result",
          "data": {
            "text/plain": [
              "[2.1667332649230957,\n",
              " 2.6182444095611572,\n",
              " 2.5685014724731445,\n",
              " 2.1287238597869873]"
            ]
          },
          "metadata": {
            "tags": []
          },
          "execution_count": 10
        }
      ]
    },
    {
      "cell_type": "code",
      "metadata": {
        "id": "qBdJFroT8Su0",
        "colab_type": "code",
        "outputId": "e43cd124-b9f1-40b5-c8b3-ce06f9789dfe",
        "colab": {
          "base_uri": "https://localhost:8080/",
          "height": 34
        }
      },
      "source": [
        "np.mean(all_scores)"
      ],
      "execution_count": 11,
      "outputs": [
        {
          "output_type": "execute_result",
          "data": {
            "text/plain": [
              "2.370550751686096"
            ]
          },
          "metadata": {
            "tags": []
          },
          "execution_count": 11
        }
      ]
    },
    {
      "cell_type": "markdown",
      "metadata": {
        "id": "vnCegcph8Su2",
        "colab_type": "text"
      },
      "source": [
        "\n",
        "As you can notice, the different runs do indeed show rather different validation scores, from 2.1 to 2.9. Their average (2.4) is a much more \n",
        "reliable metric than any single of these scores -- that's the entire point of K-fold cross-validation. In this case, we are off by \\$2,400 on \n",
        "average, which is still significant considering that the prices range from \\$10,000 to \\$50,000. \n",
        "\n",
        "Let's try training the network for a bit longer: 500 epochs. To keep a record of how well the model did at each epoch, we will modify our training loop \n",
        "to save the per-epoch validation score log:"
      ]
    },
    {
      "cell_type": "code",
      "metadata": {
        "id": "nk-AO_q18Su2",
        "colab_type": "code",
        "colab": {}
      },
      "source": [
        "from keras import backend as K\n",
        "\n",
        "# Some memory clean-up\n",
        "K.clear_session()"
      ],
      "execution_count": 0,
      "outputs": []
    },
    {
      "cell_type": "code",
      "metadata": {
        "id": "7GOkmYJs8Su4",
        "colab_type": "code",
        "outputId": "eb807776-4b6e-4be4-f020-493d987e1cd3",
        "colab": {
          "base_uri": "https://localhost:8080/",
          "height": 1000
        }
      },
      "source": [
        "num_epochs = 500\n",
        "all_mae_histories = []\n",
        "for i in range(k):\n",
        "    print('processing fold #', i)\n",
        "    # Prepare the validation data: data from partition # k\n",
        "    val_data = train_data[i * num_val_samples: (i + 1) * num_val_samples]\n",
        "    val_targets = train_targets[i * num_val_samples: (i + 1) * num_val_samples]\n",
        "\n",
        "    # Prepare the training data: data from all other partitions\n",
        "    partial_train_data = np.concatenate(\n",
        "        [train_data[:i * num_val_samples],\n",
        "         train_data[(i + 1) * num_val_samples:]],\n",
        "        axis=0)\n",
        "    partial_train_targets = np.concatenate(\n",
        "        [train_targets[:i * num_val_samples],\n",
        "         train_targets[(i + 1) * num_val_samples:]],\n",
        "        axis=0)\n",
        "\n",
        "    # Build the Keras model (already compiled)\n",
        "    print(\"building model\")\n",
        "    model = build_model()\n",
        "    # Train the model (in silent mode, verbose=0)\n",
        "    print(\"fitting model\")\n",
        "    history = model.fit(partial_train_data, partial_train_targets,\n",
        "                        validation_data=(val_data, val_targets),\n",
        "                        epochs=num_epochs, batch_size=1, verbose=1)\n",
        "    print(\"append mae\")\n",
        "    mae_history = history.history['val_mean_absolute_error']\n",
        "    all_mae_histories.append(mae_history)"
      ],
      "execution_count": 19,
      "outputs": [
        {
          "output_type": "stream",
          "text": [
            "processing fold # 0\n",
            "building model\n",
            "fitting model\n",
            "Train on 303 samples, validate on 101 samples\n",
            "Epoch 1/500\n",
            "303/303 [==============================] - 1s 4ms/step - loss: 240.8215 - mae: 11.8940 - val_loss: 35.9945 - val_mae: 3.8287\n",
            "Epoch 2/500\n",
            "303/303 [==============================] - 1s 4ms/step - loss: 28.8942 - mae: 3.7229 - val_loss: 25.2881 - val_mae: 3.0936\n",
            "Epoch 3/500\n",
            "303/303 [==============================] - 1s 4ms/step - loss: 21.6195 - mae: 3.0736 - val_loss: 19.7452 - val_mae: 2.9880\n",
            "Epoch 4/500\n",
            "303/303 [==============================] - 1s 4ms/step - loss: 19.2568 - mae: 2.8580 - val_loss: 17.0997 - val_mae: 2.4311\n",
            "Epoch 5/500\n",
            "303/303 [==============================] - 1s 4ms/step - loss: 16.8189 - mae: 2.7268 - val_loss: 15.9323 - val_mae: 2.4018\n",
            "Epoch 6/500\n",
            "303/303 [==============================] - 1s 4ms/step - loss: 16.1435 - mae: 2.5974 - val_loss: 13.5649 - val_mae: 2.1854\n",
            "Epoch 7/500\n",
            "303/303 [==============================] - 1s 4ms/step - loss: 14.9219 - mae: 2.4903 - val_loss: 14.1478 - val_mae: 2.2054\n",
            "Epoch 8/500\n",
            "303/303 [==============================] - 1s 4ms/step - loss: 14.5780 - mae: 2.3924 - val_loss: 12.2528 - val_mae: 2.2934\n",
            "Epoch 9/500\n",
            "303/303 [==============================] - 1s 4ms/step - loss: 13.6402 - mae: 2.3479 - val_loss: 11.8461 - val_mae: 2.1406\n",
            "Epoch 10/500\n",
            "303/303 [==============================] - 1s 4ms/step - loss: 13.6227 - mae: 2.4147 - val_loss: 11.6109 - val_mae: 2.2926\n",
            "Epoch 11/500\n",
            "303/303 [==============================] - 1s 4ms/step - loss: 12.1555 - mae: 2.2637 - val_loss: 10.7919 - val_mae: 2.3438\n",
            "Epoch 12/500\n",
            "303/303 [==============================] - 1s 4ms/step - loss: 12.2073 - mae: 2.2968 - val_loss: 9.9123 - val_mae: 2.1704\n",
            "Epoch 13/500\n",
            "303/303 [==============================] - 1s 4ms/step - loss: 12.0478 - mae: 2.2325 - val_loss: 9.5186 - val_mae: 2.0900\n",
            "Epoch 14/500\n",
            "303/303 [==============================] - 1s 4ms/step - loss: 11.9348 - mae: 2.2391 - val_loss: 9.4548 - val_mae: 1.9798\n",
            "Epoch 15/500\n",
            "303/303 [==============================] - 1s 4ms/step - loss: 11.4841 - mae: 2.2146 - val_loss: 9.7598 - val_mae: 2.2407\n",
            "Epoch 16/500\n",
            "303/303 [==============================] - 1s 4ms/step - loss: 10.8387 - mae: 2.1549 - val_loss: 8.4542 - val_mae: 1.9094\n",
            "Epoch 17/500\n",
            "303/303 [==============================] - 1s 4ms/step - loss: 10.5168 - mae: 2.1925 - val_loss: 8.7852 - val_mae: 1.9388\n",
            "Epoch 18/500\n",
            "303/303 [==============================] - 1s 4ms/step - loss: 10.6450 - mae: 2.0951 - val_loss: 9.1880 - val_mae: 2.0365\n",
            "Epoch 19/500\n",
            "303/303 [==============================] - 1s 4ms/step - loss: 10.1052 - mae: 2.1518 - val_loss: 8.4706 - val_mae: 2.0301\n",
            "Epoch 20/500\n",
            "303/303 [==============================] - 1s 4ms/step - loss: 9.9000 - mae: 2.0974 - val_loss: 8.2093 - val_mae: 1.8102\n",
            "Epoch 21/500\n",
            "303/303 [==============================] - 1s 4ms/step - loss: 9.9007 - mae: 2.0984 - val_loss: 8.8900 - val_mae: 1.9181\n",
            "Epoch 22/500\n",
            "303/303 [==============================] - 1s 4ms/step - loss: 9.6713 - mae: 2.0255 - val_loss: 9.7415 - val_mae: 2.0778\n",
            "Epoch 23/500\n",
            "303/303 [==============================] - 1s 4ms/step - loss: 9.4717 - mae: 2.0275 - val_loss: 9.5282 - val_mae: 2.0859\n",
            "Epoch 24/500\n",
            "303/303 [==============================] - 1s 4ms/step - loss: 9.4898 - mae: 1.9891 - val_loss: 9.6222 - val_mae: 2.1978\n",
            "Epoch 25/500\n",
            "303/303 [==============================] - 1s 4ms/step - loss: 8.8302 - mae: 1.9581 - val_loss: 9.1481 - val_mae: 2.0512\n",
            "Epoch 26/500\n",
            "303/303 [==============================] - 1s 4ms/step - loss: 8.8564 - mae: 1.9317 - val_loss: 8.4938 - val_mae: 1.9110\n",
            "Epoch 27/500\n",
            "303/303 [==============================] - 1s 4ms/step - loss: 8.8479 - mae: 1.9597 - val_loss: 8.3626 - val_mae: 2.1660\n",
            "Epoch 28/500\n",
            "303/303 [==============================] - 1s 4ms/step - loss: 8.5733 - mae: 1.9360 - val_loss: 8.4992 - val_mae: 2.1196\n",
            "Epoch 29/500\n",
            "303/303 [==============================] - 1s 4ms/step - loss: 8.2725 - mae: 1.9602 - val_loss: 10.8635 - val_mae: 2.1344\n",
            "Epoch 30/500\n",
            "303/303 [==============================] - 1s 4ms/step - loss: 8.4279 - mae: 1.9180 - val_loss: 9.0233 - val_mae: 2.3100\n",
            "Epoch 31/500\n",
            "303/303 [==============================] - 1s 4ms/step - loss: 8.2635 - mae: 1.9354 - val_loss: 7.9340 - val_mae: 1.8799\n",
            "Epoch 32/500\n",
            "303/303 [==============================] - 1s 4ms/step - loss: 8.3109 - mae: 1.8976 - val_loss: 7.9495 - val_mae: 1.8905\n",
            "Epoch 33/500\n",
            "303/303 [==============================] - 1s 4ms/step - loss: 8.2282 - mae: 1.8644 - val_loss: 10.1948 - val_mae: 2.4976\n",
            "Epoch 34/500\n",
            "303/303 [==============================] - 1s 4ms/step - loss: 8.0301 - mae: 1.8829 - val_loss: 7.6524 - val_mae: 1.9308\n",
            "Epoch 35/500\n",
            "303/303 [==============================] - 1s 4ms/step - loss: 7.6617 - mae: 1.8391 - val_loss: 7.3091 - val_mae: 1.8350\n",
            "Epoch 36/500\n",
            "303/303 [==============================] - 1s 4ms/step - loss: 7.8215 - mae: 1.8164 - val_loss: 8.4551 - val_mae: 1.9472\n",
            "Epoch 37/500\n",
            "303/303 [==============================] - 1s 4ms/step - loss: 7.5820 - mae: 1.8126 - val_loss: 8.0789 - val_mae: 1.8041\n",
            "Epoch 38/500\n",
            "303/303 [==============================] - 1s 4ms/step - loss: 7.4053 - mae: 1.7919 - val_loss: 7.9662 - val_mae: 1.8295\n",
            "Epoch 39/500\n",
            "303/303 [==============================] - 1s 4ms/step - loss: 7.2229 - mae: 1.7951 - val_loss: 9.2159 - val_mae: 2.1494\n",
            "Epoch 40/500\n",
            "303/303 [==============================] - 1s 4ms/step - loss: 7.5790 - mae: 1.7802 - val_loss: 8.1426 - val_mae: 1.9550\n",
            "Epoch 41/500\n",
            "303/303 [==============================] - 1s 4ms/step - loss: 6.9815 - mae: 1.6980 - val_loss: 8.3285 - val_mae: 2.1568\n",
            "Epoch 42/500\n",
            "303/303 [==============================] - 1s 4ms/step - loss: 7.1726 - mae: 1.7702 - val_loss: 7.1674 - val_mae: 1.7772\n",
            "Epoch 43/500\n",
            "303/303 [==============================] - 1s 4ms/step - loss: 7.3862 - mae: 1.7732 - val_loss: 8.6250 - val_mae: 2.1566\n",
            "Epoch 44/500\n",
            "303/303 [==============================] - 1s 4ms/step - loss: 7.1118 - mae: 1.7450 - val_loss: 7.4257 - val_mae: 1.9736\n",
            "Epoch 45/500\n",
            "303/303 [==============================] - 1s 4ms/step - loss: 6.8285 - mae: 1.7282 - val_loss: 7.7286 - val_mae: 2.0664\n",
            "Epoch 46/500\n",
            "303/303 [==============================] - 1s 4ms/step - loss: 6.8234 - mae: 1.7030 - val_loss: 7.1696 - val_mae: 1.8488\n",
            "Epoch 47/500\n",
            "303/303 [==============================] - 1s 4ms/step - loss: 7.0366 - mae: 1.7225 - val_loss: 7.6549 - val_mae: 2.0053\n",
            "Epoch 48/500\n",
            "303/303 [==============================] - 1s 4ms/step - loss: 6.5113 - mae: 1.6576 - val_loss: 8.8781 - val_mae: 2.0998\n",
            "Epoch 49/500\n",
            "303/303 [==============================] - 1s 4ms/step - loss: 6.3607 - mae: 1.6720 - val_loss: 7.9589 - val_mae: 2.1234\n",
            "Epoch 50/500\n",
            "303/303 [==============================] - 1s 4ms/step - loss: 6.7921 - mae: 1.6955 - val_loss: 7.3018 - val_mae: 1.8417\n",
            "Epoch 51/500\n",
            "303/303 [==============================] - 1s 4ms/step - loss: 6.1103 - mae: 1.6912 - val_loss: 7.6297 - val_mae: 2.0593\n",
            "Epoch 52/500\n",
            "303/303 [==============================] - 1s 4ms/step - loss: 6.3603 - mae: 1.7196 - val_loss: 8.1715 - val_mae: 2.1162\n",
            "Epoch 53/500\n",
            "303/303 [==============================] - 1s 4ms/step - loss: 6.0541 - mae: 1.6005 - val_loss: 7.0080 - val_mae: 1.8615\n",
            "Epoch 54/500\n",
            "303/303 [==============================] - 1s 4ms/step - loss: 6.1460 - mae: 1.5909 - val_loss: 8.3519 - val_mae: 2.1747\n",
            "Epoch 55/500\n",
            "303/303 [==============================] - 1s 4ms/step - loss: 6.4489 - mae: 1.6529 - val_loss: 7.1628 - val_mae: 1.8508\n",
            "Epoch 56/500\n",
            "303/303 [==============================] - 1s 4ms/step - loss: 5.7704 - mae: 1.6368 - val_loss: 7.4687 - val_mae: 1.9085\n",
            "Epoch 57/500\n",
            "303/303 [==============================] - 1s 4ms/step - loss: 5.9305 - mae: 1.5788 - val_loss: 7.9756 - val_mae: 2.2414\n",
            "Epoch 58/500\n",
            "303/303 [==============================] - 1s 4ms/step - loss: 5.8919 - mae: 1.6017 - val_loss: 7.7716 - val_mae: 1.9379\n",
            "Epoch 59/500\n",
            "303/303 [==============================] - 1s 4ms/step - loss: 6.2720 - mae: 1.6059 - val_loss: 7.0068 - val_mae: 1.7739\n",
            "Epoch 60/500\n",
            "303/303 [==============================] - 1s 4ms/step - loss: 5.7621 - mae: 1.5805 - val_loss: 6.5176 - val_mae: 1.8043\n",
            "Epoch 61/500\n",
            "303/303 [==============================] - 1s 4ms/step - loss: 5.6925 - mae: 1.5737 - val_loss: 7.4565 - val_mae: 1.9746\n",
            "Epoch 62/500\n",
            "303/303 [==============================] - 1s 4ms/step - loss: 6.0410 - mae: 1.5877 - val_loss: 7.2029 - val_mae: 1.9718\n",
            "Epoch 63/500\n",
            "303/303 [==============================] - 1s 4ms/step - loss: 5.3447 - mae: 1.5046 - val_loss: 7.2423 - val_mae: 2.0348\n",
            "Epoch 64/500\n",
            "303/303 [==============================] - 1s 4ms/step - loss: 5.8027 - mae: 1.5829 - val_loss: 8.6655 - val_mae: 2.3103\n",
            "Epoch 65/500\n",
            "303/303 [==============================] - 1s 4ms/step - loss: 5.3885 - mae: 1.5287 - val_loss: 7.3666 - val_mae: 2.0517\n",
            "Epoch 66/500\n",
            "303/303 [==============================] - 1s 4ms/step - loss: 5.6011 - mae: 1.5288 - val_loss: 7.1400 - val_mae: 1.9957\n",
            "Epoch 67/500\n",
            "303/303 [==============================] - 1s 4ms/step - loss: 5.9470 - mae: 1.5644 - val_loss: 6.9608 - val_mae: 1.8555\n",
            "Epoch 68/500\n",
            "303/303 [==============================] - 1s 4ms/step - loss: 5.3924 - mae: 1.5426 - val_loss: 8.1975 - val_mae: 2.2093\n",
            "Epoch 69/500\n",
            "303/303 [==============================] - 1s 4ms/step - loss: 5.2666 - mae: 1.5413 - val_loss: 7.1800 - val_mae: 1.9543\n",
            "Epoch 70/500\n",
            "303/303 [==============================] - 1s 4ms/step - loss: 5.3076 - mae: 1.5514 - val_loss: 7.5034 - val_mae: 1.9420\n",
            "Epoch 71/500\n",
            "303/303 [==============================] - 1s 4ms/step - loss: 5.3357 - mae: 1.4701 - val_loss: 8.3849 - val_mae: 2.0813\n",
            "Epoch 72/500\n",
            "303/303 [==============================] - 1s 4ms/step - loss: 4.9759 - mae: 1.4536 - val_loss: 6.6767 - val_mae: 1.8602\n",
            "Epoch 73/500\n",
            "303/303 [==============================] - 1s 4ms/step - loss: 4.9473 - mae: 1.5080 - val_loss: 7.8772 - val_mae: 2.2531\n",
            "Epoch 74/500\n",
            "303/303 [==============================] - 1s 4ms/step - loss: 5.1641 - mae: 1.4677 - val_loss: 7.1185 - val_mae: 1.8414\n",
            "Epoch 75/500\n",
            "303/303 [==============================] - 1s 4ms/step - loss: 4.7585 - mae: 1.4553 - val_loss: 9.2279 - val_mae: 2.3440\n",
            "Epoch 76/500\n",
            "303/303 [==============================] - 1s 4ms/step - loss: 4.8654 - mae: 1.4871 - val_loss: 7.2439 - val_mae: 1.8698\n",
            "Epoch 77/500\n",
            "303/303 [==============================] - 1s 4ms/step - loss: 4.9538 - mae: 1.4516 - val_loss: 7.5363 - val_mae: 2.0216\n",
            "Epoch 78/500\n",
            "303/303 [==============================] - 1s 4ms/step - loss: 5.2496 - mae: 1.4728 - val_loss: 7.0202 - val_mae: 1.8903\n",
            "Epoch 79/500\n",
            "303/303 [==============================] - 1s 4ms/step - loss: 4.8271 - mae: 1.4324 - val_loss: 6.9717 - val_mae: 1.8937\n",
            "Epoch 80/500\n",
            "303/303 [==============================] - 1s 4ms/step - loss: 5.2496 - mae: 1.4022 - val_loss: 9.0261 - val_mae: 2.2920\n",
            "Epoch 81/500\n",
            "303/303 [==============================] - 1s 4ms/step - loss: 4.7985 - mae: 1.4130 - val_loss: 8.1321 - val_mae: 1.9190\n",
            "Epoch 82/500\n",
            "303/303 [==============================] - 1s 4ms/step - loss: 4.8287 - mae: 1.4428 - val_loss: 7.3977 - val_mae: 2.0896\n",
            "Epoch 83/500\n",
            "303/303 [==============================] - 1s 4ms/step - loss: 4.5816 - mae: 1.4398 - val_loss: 8.1620 - val_mae: 2.2386\n",
            "Epoch 84/500\n",
            "303/303 [==============================] - 1s 4ms/step - loss: 4.6217 - mae: 1.4173 - val_loss: 7.6568 - val_mae: 1.9652\n",
            "Epoch 85/500\n",
            "303/303 [==============================] - 1s 4ms/step - loss: 4.6441 - mae: 1.4125 - val_loss: 8.7935 - val_mae: 2.3108\n",
            "Epoch 86/500\n",
            "303/303 [==============================] - 1s 4ms/step - loss: 4.6117 - mae: 1.4158 - val_loss: 6.7081 - val_mae: 1.9357\n",
            "Epoch 87/500\n",
            "303/303 [==============================] - 1s 4ms/step - loss: 4.5949 - mae: 1.4175 - val_loss: 7.0944 - val_mae: 1.8728\n",
            "Epoch 88/500\n",
            "303/303 [==============================] - 1s 4ms/step - loss: 4.6515 - mae: 1.4089 - val_loss: 6.7233 - val_mae: 1.9807\n",
            "Epoch 89/500\n",
            "303/303 [==============================] - 1s 4ms/step - loss: 4.5910 - mae: 1.3821 - val_loss: 7.5981 - val_mae: 2.0215\n",
            "Epoch 90/500\n",
            "303/303 [==============================] - 1s 4ms/step - loss: 4.3990 - mae: 1.3917 - val_loss: 7.1037 - val_mae: 1.9188\n",
            "Epoch 91/500\n",
            "303/303 [==============================] - 1s 4ms/step - loss: 4.3230 - mae: 1.4271 - val_loss: 7.0698 - val_mae: 1.9418\n",
            "Epoch 92/500\n",
            "303/303 [==============================] - 1s 4ms/step - loss: 4.3081 - mae: 1.4012 - val_loss: 7.1503 - val_mae: 1.9826\n",
            "Epoch 93/500\n",
            "303/303 [==============================] - 1s 4ms/step - loss: 4.5350 - mae: 1.3805 - val_loss: 7.9106 - val_mae: 2.0896\n",
            "Epoch 94/500\n",
            "303/303 [==============================] - 1s 4ms/step - loss: 4.4150 - mae: 1.3635 - val_loss: 8.8703 - val_mae: 2.3351\n",
            "Epoch 95/500\n",
            "303/303 [==============================] - 1s 4ms/step - loss: 4.3091 - mae: 1.3990 - val_loss: 6.8916 - val_mae: 1.7756\n",
            "Epoch 96/500\n",
            "303/303 [==============================] - 1s 4ms/step - loss: 3.9027 - mae: 1.2431 - val_loss: 8.0598 - val_mae: 2.1428\n",
            "Epoch 97/500\n",
            "303/303 [==============================] - 1s 4ms/step - loss: 4.1498 - mae: 1.3450 - val_loss: 8.3571 - val_mae: 2.2359\n",
            "Epoch 98/500\n",
            "303/303 [==============================] - 1s 4ms/step - loss: 4.3004 - mae: 1.3536 - val_loss: 7.3342 - val_mae: 2.0275\n",
            "Epoch 99/500\n",
            "303/303 [==============================] - 1s 5ms/step - loss: 4.1330 - mae: 1.3714 - val_loss: 6.7126 - val_mae: 1.9828\n",
            "Epoch 100/500\n",
            "303/303 [==============================] - 1s 4ms/step - loss: 3.9585 - mae: 1.3110 - val_loss: 10.1144 - val_mae: 2.2341\n",
            "Epoch 101/500\n",
            "303/303 [==============================] - 1s 4ms/step - loss: 4.0953 - mae: 1.2973 - val_loss: 6.7544 - val_mae: 1.8903\n",
            "Epoch 102/500\n",
            "303/303 [==============================] - 1s 4ms/step - loss: 3.8897 - mae: 1.3672 - val_loss: 7.5846 - val_mae: 2.0006\n",
            "Epoch 103/500\n",
            "303/303 [==============================] - 1s 4ms/step - loss: 3.7876 - mae: 1.3164 - val_loss: 8.4921 - val_mae: 2.2246\n",
            "Epoch 104/500\n",
            "303/303 [==============================] - 1s 4ms/step - loss: 3.7598 - mae: 1.3464 - val_loss: 7.2762 - val_mae: 2.0370\n",
            "Epoch 105/500\n",
            "303/303 [==============================] - 1s 4ms/step - loss: 3.8964 - mae: 1.3297 - val_loss: 6.9614 - val_mae: 1.9519\n",
            "Epoch 106/500\n",
            "303/303 [==============================] - 1s 4ms/step - loss: 3.7126 - mae: 1.3435 - val_loss: 8.5061 - val_mae: 2.2065\n",
            "Epoch 107/500\n",
            "303/303 [==============================] - 1s 4ms/step - loss: 3.9326 - mae: 1.3068 - val_loss: 9.8208 - val_mae: 2.4364\n",
            "Epoch 108/500\n",
            "303/303 [==============================] - 1s 4ms/step - loss: 3.8926 - mae: 1.2990 - val_loss: 6.6819 - val_mae: 1.9080\n",
            "Epoch 109/500\n",
            "303/303 [==============================] - 1s 4ms/step - loss: 3.6518 - mae: 1.2665 - val_loss: 8.1784 - val_mae: 2.1723\n",
            "Epoch 110/500\n",
            "303/303 [==============================] - 1s 4ms/step - loss: 3.5535 - mae: 1.3131 - val_loss: 7.2641 - val_mae: 1.9713\n",
            "Epoch 111/500\n",
            "303/303 [==============================] - 1s 4ms/step - loss: 3.6632 - mae: 1.2913 - val_loss: 7.7555 - val_mae: 2.1413\n",
            "Epoch 112/500\n",
            "303/303 [==============================] - 1s 4ms/step - loss: 3.3121 - mae: 1.2300 - val_loss: 7.5749 - val_mae: 2.1629\n",
            "Epoch 113/500\n",
            "303/303 [==============================] - 1s 4ms/step - loss: 3.5596 - mae: 1.2982 - val_loss: 8.6016 - val_mae: 2.1146\n",
            "Epoch 114/500\n",
            "303/303 [==============================] - 1s 4ms/step - loss: 3.4762 - mae: 1.2925 - val_loss: 6.8933 - val_mae: 1.8665\n",
            "Epoch 115/500\n",
            "303/303 [==============================] - 1s 4ms/step - loss: 3.4780 - mae: 1.2239 - val_loss: 7.0862 - val_mae: 1.9011\n",
            "Epoch 116/500\n",
            "303/303 [==============================] - 1s 4ms/step - loss: 3.3500 - mae: 1.2579 - val_loss: 7.9432 - val_mae: 2.1781\n",
            "Epoch 117/500\n",
            "303/303 [==============================] - 1s 4ms/step - loss: 3.2475 - mae: 1.2657 - val_loss: 7.5532 - val_mae: 1.9606\n",
            "Epoch 118/500\n",
            "303/303 [==============================] - 1s 4ms/step - loss: 3.4552 - mae: 1.2568 - val_loss: 7.4653 - val_mae: 2.0275\n",
            "Epoch 119/500\n",
            "303/303 [==============================] - 1s 4ms/step - loss: 3.2364 - mae: 1.2471 - val_loss: 6.5825 - val_mae: 1.8742\n",
            "Epoch 120/500\n",
            "303/303 [==============================] - 1s 4ms/step - loss: 3.3327 - mae: 1.2573 - val_loss: 7.9586 - val_mae: 2.0235\n",
            "Epoch 121/500\n",
            "303/303 [==============================] - 1s 4ms/step - loss: 3.4739 - mae: 1.2526 - val_loss: 8.2913 - val_mae: 2.1215\n",
            "Epoch 122/500\n",
            "303/303 [==============================] - 1s 4ms/step - loss: 3.4780 - mae: 1.2202 - val_loss: 9.2179 - val_mae: 2.2662\n",
            "Epoch 123/500\n",
            "303/303 [==============================] - 1s 4ms/step - loss: 3.1812 - mae: 1.2597 - val_loss: 8.2232 - val_mae: 2.0514\n",
            "Epoch 124/500\n",
            "303/303 [==============================] - 1s 4ms/step - loss: 3.2523 - mae: 1.3039 - val_loss: 6.3690 - val_mae: 1.7842\n",
            "Epoch 125/500\n",
            "303/303 [==============================] - 1s 4ms/step - loss: 3.2278 - mae: 1.2089 - val_loss: 7.1327 - val_mae: 2.0260\n",
            "Epoch 126/500\n",
            "303/303 [==============================] - 1s 4ms/step - loss: 2.9425 - mae: 1.1571 - val_loss: 8.6711 - val_mae: 2.2375\n",
            "Epoch 127/500\n",
            "303/303 [==============================] - 1s 4ms/step - loss: 2.9559 - mae: 1.1726 - val_loss: 7.8520 - val_mae: 2.1167\n",
            "Epoch 128/500\n",
            "303/303 [==============================] - 1s 4ms/step - loss: 3.0745 - mae: 1.1823 - val_loss: 7.9245 - val_mae: 2.1311\n",
            "Epoch 129/500\n",
            "303/303 [==============================] - 1s 4ms/step - loss: 3.2657 - mae: 1.2556 - val_loss: 7.5137 - val_mae: 2.0341\n",
            "Epoch 130/500\n",
            "303/303 [==============================] - 1s 4ms/step - loss: 3.1233 - mae: 1.2043 - val_loss: 7.2756 - val_mae: 1.9587\n",
            "Epoch 131/500\n",
            "303/303 [==============================] - 1s 4ms/step - loss: 3.1213 - mae: 1.1543 - val_loss: 7.3126 - val_mae: 2.0487\n",
            "Epoch 132/500\n",
            "303/303 [==============================] - 1s 4ms/step - loss: 2.9203 - mae: 1.1765 - val_loss: 8.8006 - val_mae: 2.0837\n",
            "Epoch 133/500\n",
            "303/303 [==============================] - 1s 4ms/step - loss: 3.2139 - mae: 1.2225 - val_loss: 6.5474 - val_mae: 1.7845\n",
            "Epoch 134/500\n",
            "303/303 [==============================] - 1s 4ms/step - loss: 3.0735 - mae: 1.1668 - val_loss: 7.8411 - val_mae: 2.1544\n",
            "Epoch 135/500\n",
            "303/303 [==============================] - 1s 4ms/step - loss: 3.0878 - mae: 1.1828 - val_loss: 8.5668 - val_mae: 2.0845\n",
            "Epoch 136/500\n",
            "303/303 [==============================] - 1s 4ms/step - loss: 3.0244 - mae: 1.2079 - val_loss: 7.9485 - val_mae: 2.1285\n",
            "Epoch 137/500\n",
            "303/303 [==============================] - 1s 4ms/step - loss: 2.9671 - mae: 1.1638 - val_loss: 8.0921 - val_mae: 2.1392\n",
            "Epoch 138/500\n",
            "303/303 [==============================] - 1s 4ms/step - loss: 3.0278 - mae: 1.1994 - val_loss: 7.7884 - val_mae: 1.9937\n",
            "Epoch 139/500\n",
            "303/303 [==============================] - 1s 4ms/step - loss: 2.8293 - mae: 1.1776 - val_loss: 7.2191 - val_mae: 1.8891\n",
            "Epoch 140/500\n",
            "303/303 [==============================] - 1s 4ms/step - loss: 2.8206 - mae: 1.1379 - val_loss: 9.8119 - val_mae: 2.3616\n",
            "Epoch 141/500\n",
            "303/303 [==============================] - 1s 4ms/step - loss: 2.7964 - mae: 1.1980 - val_loss: 8.0769 - val_mae: 2.0941\n",
            "Epoch 142/500\n",
            "303/303 [==============================] - 1s 4ms/step - loss: 2.7208 - mae: 1.1550 - val_loss: 9.0464 - val_mae: 2.2267\n",
            "Epoch 143/500\n",
            "303/303 [==============================] - 1s 4ms/step - loss: 2.8872 - mae: 1.1631 - val_loss: 9.3291 - val_mae: 2.3420\n",
            "Epoch 144/500\n",
            "303/303 [==============================] - 1s 4ms/step - loss: 2.7206 - mae: 1.1676 - val_loss: 8.2507 - val_mae: 2.0278\n",
            "Epoch 145/500\n",
            "303/303 [==============================] - 1s 4ms/step - loss: 2.6436 - mae: 1.1336 - val_loss: 7.2465 - val_mae: 1.9950\n",
            "Epoch 146/500\n",
            "303/303 [==============================] - 1s 4ms/step - loss: 2.8060 - mae: 1.1855 - val_loss: 7.9014 - val_mae: 2.0647\n",
            "Epoch 147/500\n",
            "303/303 [==============================] - 1s 4ms/step - loss: 2.8411 - mae: 1.1628 - val_loss: 7.7219 - val_mae: 2.0352\n",
            "Epoch 148/500\n",
            "303/303 [==============================] - 1s 4ms/step - loss: 2.6741 - mae: 1.1401 - val_loss: 8.9627 - val_mae: 2.2171\n",
            "Epoch 149/500\n",
            "303/303 [==============================] - 1s 4ms/step - loss: 2.7170 - mae: 1.1130 - val_loss: 7.2244 - val_mae: 1.9327\n",
            "Epoch 150/500\n",
            "303/303 [==============================] - 1s 4ms/step - loss: 2.4972 - mae: 1.0733 - val_loss: 7.3050 - val_mae: 2.0576\n",
            "Epoch 151/500\n",
            "303/303 [==============================] - 1s 4ms/step - loss: 2.6649 - mae: 1.1504 - val_loss: 8.8840 - val_mae: 2.1771\n",
            "Epoch 152/500\n",
            "303/303 [==============================] - 1s 4ms/step - loss: 2.5398 - mae: 1.1386 - val_loss: 8.8586 - val_mae: 2.1116\n",
            "Epoch 153/500\n",
            "303/303 [==============================] - 1s 4ms/step - loss: 2.8061 - mae: 1.1312 - val_loss: 7.7662 - val_mae: 2.0209\n",
            "Epoch 154/500\n",
            "303/303 [==============================] - 1s 4ms/step - loss: 2.3714 - mae: 1.0395 - val_loss: 8.7713 - val_mae: 2.1819\n",
            "Epoch 155/500\n",
            "303/303 [==============================] - 1s 4ms/step - loss: 2.6645 - mae: 1.1114 - val_loss: 8.8691 - val_mae: 2.1588\n",
            "Epoch 156/500\n",
            "303/303 [==============================] - 1s 4ms/step - loss: 2.8408 - mae: 1.1471 - val_loss: 8.1533 - val_mae: 2.0988\n",
            "Epoch 157/500\n",
            "303/303 [==============================] - 1s 4ms/step - loss: 2.6490 - mae: 1.1755 - val_loss: 8.1197 - val_mae: 2.1163\n",
            "Epoch 158/500\n",
            "303/303 [==============================] - 1s 4ms/step - loss: 2.6883 - mae: 1.1658 - val_loss: 8.6357 - val_mae: 2.2611\n",
            "Epoch 159/500\n",
            "303/303 [==============================] - 1s 4ms/step - loss: 2.4454 - mae: 1.1570 - val_loss: 10.6888 - val_mae: 2.3685\n",
            "Epoch 160/500\n",
            "303/303 [==============================] - 1s 4ms/step - loss: 2.3865 - mae: 1.0474 - val_loss: 8.1767 - val_mae: 2.0965\n",
            "Epoch 161/500\n",
            "303/303 [==============================] - 1s 4ms/step - loss: 2.4809 - mae: 1.0958 - val_loss: 7.7908 - val_mae: 1.9971\n",
            "Epoch 162/500\n",
            "303/303 [==============================] - 1s 4ms/step - loss: 2.6311 - mae: 1.1393 - val_loss: 8.6552 - val_mae: 2.1762\n",
            "Epoch 163/500\n",
            "303/303 [==============================] - 1s 4ms/step - loss: 2.4939 - mae: 1.1021 - val_loss: 10.5448 - val_mae: 2.3262\n",
            "Epoch 164/500\n",
            "303/303 [==============================] - 1s 4ms/step - loss: 2.2936 - mae: 1.0746 - val_loss: 8.6431 - val_mae: 2.1086\n",
            "Epoch 165/500\n",
            "303/303 [==============================] - 1s 4ms/step - loss: 2.6177 - mae: 1.1235 - val_loss: 8.8903 - val_mae: 2.1522\n",
            "Epoch 166/500\n",
            "303/303 [==============================] - 1s 4ms/step - loss: 2.3117 - mae: 1.1206 - val_loss: 8.5471 - val_mae: 2.0878\n",
            "Epoch 167/500\n",
            "303/303 [==============================] - 1s 4ms/step - loss: 2.3510 - mae: 1.0690 - val_loss: 10.2224 - val_mae: 2.3516\n",
            "Epoch 168/500\n",
            "303/303 [==============================] - 1s 4ms/step - loss: 2.5912 - mae: 1.1008 - val_loss: 8.2277 - val_mae: 2.1760\n",
            "Epoch 169/500\n",
            "303/303 [==============================] - 1s 4ms/step - loss: 2.3168 - mae: 1.0962 - val_loss: 9.0415 - val_mae: 2.1980\n",
            "Epoch 170/500\n",
            "303/303 [==============================] - 1s 4ms/step - loss: 2.1509 - mae: 1.0708 - val_loss: 8.4825 - val_mae: 2.1336\n",
            "Epoch 171/500\n",
            "303/303 [==============================] - 1s 4ms/step - loss: 2.4401 - mae: 1.1227 - val_loss: 9.2767 - val_mae: 2.2578\n",
            "Epoch 172/500\n",
            "303/303 [==============================] - 1s 4ms/step - loss: 2.5810 - mae: 1.0847 - val_loss: 8.2046 - val_mae: 2.0992\n",
            "Epoch 173/500\n",
            "303/303 [==============================] - 1s 4ms/step - loss: 2.4179 - mae: 1.0746 - val_loss: 8.8497 - val_mae: 2.1845\n",
            "Epoch 174/500\n",
            "303/303 [==============================] - 1s 4ms/step - loss: 2.3589 - mae: 1.1309 - val_loss: 7.8029 - val_mae: 2.0470\n",
            "Epoch 175/500\n",
            "303/303 [==============================] - 1s 4ms/step - loss: 1.9922 - mae: 0.9828 - val_loss: 10.2896 - val_mae: 2.3397\n",
            "Epoch 176/500\n",
            "303/303 [==============================] - 1s 4ms/step - loss: 2.1772 - mae: 1.0619 - val_loss: 9.3721 - val_mae: 2.2789\n",
            "Epoch 177/500\n",
            "303/303 [==============================] - 1s 4ms/step - loss: 2.4101 - mae: 1.0775 - val_loss: 8.4017 - val_mae: 2.1403\n",
            "Epoch 178/500\n",
            "303/303 [==============================] - 1s 4ms/step - loss: 2.0551 - mae: 1.0347 - val_loss: 11.4729 - val_mae: 2.4474\n",
            "Epoch 179/500\n",
            "303/303 [==============================] - 1s 4ms/step - loss: 2.3912 - mae: 1.0733 - val_loss: 9.1216 - val_mae: 2.2275\n",
            "Epoch 180/500\n",
            "303/303 [==============================] - 1s 4ms/step - loss: 1.9612 - mae: 1.0191 - val_loss: 8.9160 - val_mae: 2.2123\n",
            "Epoch 181/500\n",
            "303/303 [==============================] - 1s 4ms/step - loss: 2.2338 - mae: 1.0603 - val_loss: 8.0677 - val_mae: 2.1018\n",
            "Epoch 182/500\n",
            "303/303 [==============================] - 1s 4ms/step - loss: 2.1634 - mae: 1.0132 - val_loss: 10.7040 - val_mae: 2.4376\n",
            "Epoch 183/500\n",
            "303/303 [==============================] - 1s 4ms/step - loss: 2.1627 - mae: 1.0832 - val_loss: 8.5283 - val_mae: 2.1908\n",
            "Epoch 184/500\n",
            "303/303 [==============================] - 1s 4ms/step - loss: 2.2195 - mae: 1.0695 - val_loss: 9.2857 - val_mae: 2.2965\n",
            "Epoch 185/500\n",
            "303/303 [==============================] - 1s 4ms/step - loss: 2.0387 - mae: 1.0372 - val_loss: 11.1840 - val_mae: 2.5276\n",
            "Epoch 186/500\n",
            "303/303 [==============================] - 1s 4ms/step - loss: 2.0660 - mae: 1.0468 - val_loss: 9.3470 - val_mae: 2.3121\n",
            "Epoch 187/500\n",
            "303/303 [==============================] - 1s 4ms/step - loss: 2.1531 - mae: 1.0414 - val_loss: 8.5996 - val_mae: 2.1300\n",
            "Epoch 188/500\n",
            "303/303 [==============================] - 1s 4ms/step - loss: 2.0879 - mae: 1.0046 - val_loss: 9.3992 - val_mae: 2.2655\n",
            "Epoch 189/500\n",
            "303/303 [==============================] - 1s 4ms/step - loss: 2.1668 - mae: 1.0361 - val_loss: 9.4274 - val_mae: 2.2423\n",
            "Epoch 190/500\n",
            "303/303 [==============================] - 1s 4ms/step - loss: 2.3390 - mae: 1.0946 - val_loss: 8.9682 - val_mae: 2.2236\n",
            "Epoch 191/500\n",
            "303/303 [==============================] - 1s 4ms/step - loss: 1.8985 - mae: 1.0207 - val_loss: 8.7766 - val_mae: 2.3059\n",
            "Epoch 192/500\n",
            "303/303 [==============================] - 1s 4ms/step - loss: 2.0265 - mae: 1.0466 - val_loss: 8.9246 - val_mae: 2.1379\n",
            "Epoch 193/500\n",
            "303/303 [==============================] - 1s 4ms/step - loss: 2.2019 - mae: 1.0745 - val_loss: 9.2412 - val_mae: 2.1706\n",
            "Epoch 194/500\n",
            "303/303 [==============================] - 1s 4ms/step - loss: 1.9480 - mae: 0.9700 - val_loss: 9.3101 - val_mae: 2.2826\n",
            "Epoch 195/500\n",
            "303/303 [==============================] - 1s 4ms/step - loss: 1.9745 - mae: 1.0244 - val_loss: 8.7874 - val_mae: 2.1869\n",
            "Epoch 196/500\n",
            "303/303 [==============================] - 1s 4ms/step - loss: 1.9113 - mae: 0.9891 - val_loss: 8.7232 - val_mae: 2.0998\n",
            "Epoch 197/500\n",
            "303/303 [==============================] - 1s 4ms/step - loss: 2.0710 - mae: 1.0285 - val_loss: 9.1280 - val_mae: 2.1801\n",
            "Epoch 198/500\n",
            "303/303 [==============================] - 1s 4ms/step - loss: 2.2575 - mae: 1.0605 - val_loss: 8.9130 - val_mae: 2.2706\n",
            "Epoch 199/500\n",
            "303/303 [==============================] - 1s 4ms/step - loss: 1.9228 - mae: 0.9801 - val_loss: 8.8844 - val_mae: 2.1956\n",
            "Epoch 200/500\n",
            "303/303 [==============================] - 1s 4ms/step - loss: 1.9191 - mae: 1.0114 - val_loss: 12.7885 - val_mae: 2.5820\n",
            "Epoch 201/500\n",
            "303/303 [==============================] - 1s 4ms/step - loss: 1.9445 - mae: 1.0224 - val_loss: 9.4029 - val_mae: 2.2521\n",
            "Epoch 202/500\n",
            "303/303 [==============================] - 1s 4ms/step - loss: 1.9030 - mae: 1.0210 - val_loss: 12.1428 - val_mae: 2.6441\n",
            "Epoch 203/500\n",
            "303/303 [==============================] - 1s 4ms/step - loss: 1.9976 - mae: 1.0114 - val_loss: 8.8432 - val_mae: 2.1802\n",
            "Epoch 204/500\n",
            "303/303 [==============================] - 1s 4ms/step - loss: 1.8075 - mae: 0.9755 - val_loss: 12.6506 - val_mae: 2.6711\n",
            "Epoch 205/500\n",
            "303/303 [==============================] - 1s 4ms/step - loss: 1.9384 - mae: 1.0022 - val_loss: 10.4595 - val_mae: 2.3678\n",
            "Epoch 206/500\n",
            "303/303 [==============================] - 1s 4ms/step - loss: 1.7866 - mae: 1.0038 - val_loss: 10.4251 - val_mae: 2.2729\n",
            "Epoch 207/500\n",
            "303/303 [==============================] - 1s 4ms/step - loss: 1.8069 - mae: 0.9818 - val_loss: 9.3237 - val_mae: 2.2769\n",
            "Epoch 208/500\n",
            "303/303 [==============================] - 1s 4ms/step - loss: 1.8163 - mae: 0.9621 - val_loss: 9.3970 - val_mae: 2.2152\n",
            "Epoch 209/500\n",
            "303/303 [==============================] - 1s 4ms/step - loss: 1.8984 - mae: 0.9641 - val_loss: 8.9296 - val_mae: 2.1440\n",
            "Epoch 210/500\n",
            "303/303 [==============================] - 1s 4ms/step - loss: 1.9376 - mae: 1.0138 - val_loss: 7.9921 - val_mae: 2.0512\n",
            "Epoch 211/500\n",
            "303/303 [==============================] - 1s 4ms/step - loss: 1.9268 - mae: 1.0076 - val_loss: 10.4475 - val_mae: 2.5162\n",
            "Epoch 212/500\n",
            "303/303 [==============================] - 1s 4ms/step - loss: 1.8687 - mae: 0.9745 - val_loss: 9.0901 - val_mae: 2.1554\n",
            "Epoch 213/500\n",
            "303/303 [==============================] - 1s 4ms/step - loss: 1.9394 - mae: 0.9845 - val_loss: 9.3754 - val_mae: 2.1918\n",
            "Epoch 214/500\n",
            "303/303 [==============================] - 1s 4ms/step - loss: 1.8046 - mae: 1.0062 - val_loss: 9.7102 - val_mae: 2.4015\n",
            "Epoch 215/500\n",
            "303/303 [==============================] - 1s 4ms/step - loss: 1.9589 - mae: 1.0099 - val_loss: 9.8244 - val_mae: 2.2404\n",
            "Epoch 216/500\n",
            "303/303 [==============================] - 1s 4ms/step - loss: 1.8387 - mae: 0.9911 - val_loss: 8.8762 - val_mae: 2.1486\n",
            "Epoch 217/500\n",
            "303/303 [==============================] - 1s 4ms/step - loss: 1.7849 - mae: 0.9728 - val_loss: 10.0801 - val_mae: 2.3300\n",
            "Epoch 218/500\n",
            "303/303 [==============================] - 1s 4ms/step - loss: 1.8213 - mae: 0.9572 - val_loss: 9.5341 - val_mae: 2.2933\n",
            "Epoch 219/500\n",
            "303/303 [==============================] - 1s 4ms/step - loss: 1.8437 - mae: 0.9909 - val_loss: 10.4878 - val_mae: 2.4314\n",
            "Epoch 220/500\n",
            "303/303 [==============================] - 1s 4ms/step - loss: 1.8631 - mae: 0.9903 - val_loss: 10.5351 - val_mae: 2.4534\n",
            "Epoch 221/500\n",
            "303/303 [==============================] - 1s 4ms/step - loss: 1.8200 - mae: 0.9735 - val_loss: 9.0199 - val_mae: 2.2401\n",
            "Epoch 222/500\n",
            "303/303 [==============================] - 1s 4ms/step - loss: 1.6397 - mae: 0.9285 - val_loss: 11.8869 - val_mae: 2.5394\n",
            "Epoch 223/500\n",
            "303/303 [==============================] - 1s 4ms/step - loss: 1.7772 - mae: 0.9779 - val_loss: 9.5911 - val_mae: 2.2471\n",
            "Epoch 224/500\n",
            "303/303 [==============================] - 1s 4ms/step - loss: 1.8419 - mae: 0.9920 - val_loss: 9.3150 - val_mae: 2.1613\n",
            "Epoch 225/500\n",
            "303/303 [==============================] - 1s 4ms/step - loss: 1.6798 - mae: 0.9492 - val_loss: 9.1005 - val_mae: 2.1549\n",
            "Epoch 226/500\n",
            "303/303 [==============================] - 1s 4ms/step - loss: 1.7375 - mae: 0.9658 - val_loss: 10.1989 - val_mae: 2.3286\n",
            "Epoch 227/500\n",
            "303/303 [==============================] - 1s 4ms/step - loss: 1.6483 - mae: 0.9539 - val_loss: 10.2124 - val_mae: 2.2544\n",
            "Epoch 228/500\n",
            "303/303 [==============================] - 1s 4ms/step - loss: 1.8580 - mae: 0.9646 - val_loss: 8.7292 - val_mae: 2.0809\n",
            "Epoch 229/500\n",
            "303/303 [==============================] - 1s 4ms/step - loss: 1.8521 - mae: 0.9909 - val_loss: 9.7814 - val_mae: 2.3694\n",
            "Epoch 230/500\n",
            "303/303 [==============================] - 1s 4ms/step - loss: 1.7780 - mae: 0.9762 - val_loss: 9.2487 - val_mae: 2.2383\n",
            "Epoch 231/500\n",
            "303/303 [==============================] - 1s 4ms/step - loss: 1.5589 - mae: 0.8953 - val_loss: 9.0835 - val_mae: 2.2325\n",
            "Epoch 232/500\n",
            "303/303 [==============================] - 1s 4ms/step - loss: 1.6701 - mae: 0.9406 - val_loss: 10.3861 - val_mae: 2.3826\n",
            "Epoch 233/500\n",
            "303/303 [==============================] - 1s 4ms/step - loss: 1.7465 - mae: 0.9900 - val_loss: 9.7138 - val_mae: 2.2332\n",
            "Epoch 234/500\n",
            "303/303 [==============================] - 1s 4ms/step - loss: 1.5844 - mae: 0.9571 - val_loss: 11.3710 - val_mae: 2.4092\n",
            "Epoch 235/500\n",
            "303/303 [==============================] - 1s 4ms/step - loss: 1.7435 - mae: 0.9828 - val_loss: 9.4604 - val_mae: 2.3118\n",
            "Epoch 236/500\n",
            "303/303 [==============================] - 1s 4ms/step - loss: 1.6832 - mae: 0.9299 - val_loss: 9.4782 - val_mae: 2.3457\n",
            "Epoch 237/500\n",
            "303/303 [==============================] - 1s 4ms/step - loss: 1.6309 - mae: 0.9450 - val_loss: 10.8365 - val_mae: 2.4146\n",
            "Epoch 238/500\n",
            "303/303 [==============================] - 1s 4ms/step - loss: 1.7409 - mae: 0.9479 - val_loss: 9.6382 - val_mae: 2.2083\n",
            "Epoch 239/500\n",
            "303/303 [==============================] - 1s 4ms/step - loss: 1.8129 - mae: 0.9686 - val_loss: 9.4410 - val_mae: 2.2249\n",
            "Epoch 240/500\n",
            "303/303 [==============================] - 1s 4ms/step - loss: 1.6437 - mae: 0.9028 - val_loss: 11.5328 - val_mae: 2.4673\n",
            "Epoch 241/500\n",
            "303/303 [==============================] - 1s 4ms/step - loss: 1.8122 - mae: 0.9790 - val_loss: 9.1947 - val_mae: 2.2813\n",
            "Epoch 242/500\n",
            "303/303 [==============================] - 1s 4ms/step - loss: 1.7324 - mae: 0.9582 - val_loss: 11.7339 - val_mae: 2.5878\n",
            "Epoch 243/500\n",
            "303/303 [==============================] - 1s 4ms/step - loss: 1.6317 - mae: 0.9173 - val_loss: 9.9017 - val_mae: 2.3648\n",
            "Epoch 244/500\n",
            "303/303 [==============================] - 1s 4ms/step - loss: 1.6382 - mae: 0.8861 - val_loss: 9.8218 - val_mae: 2.3331\n",
            "Epoch 245/500\n",
            "303/303 [==============================] - 1s 4ms/step - loss: 1.5974 - mae: 0.9406 - val_loss: 9.5787 - val_mae: 2.2842\n",
            "Epoch 246/500\n",
            "303/303 [==============================] - 1s 4ms/step - loss: 1.5504 - mae: 0.9199 - val_loss: 9.0293 - val_mae: 2.2158\n",
            "Epoch 247/500\n",
            "303/303 [==============================] - 1s 4ms/step - loss: 1.6604 - mae: 0.9232 - val_loss: 10.3142 - val_mae: 2.2577\n",
            "Epoch 248/500\n",
            "303/303 [==============================] - 1s 4ms/step - loss: 1.7489 - mae: 0.9551 - val_loss: 9.6821 - val_mae: 2.3151\n",
            "Epoch 249/500\n",
            "303/303 [==============================] - 1s 4ms/step - loss: 1.6075 - mae: 0.9038 - val_loss: 10.1347 - val_mae: 2.2434\n",
            "Epoch 250/500\n",
            "303/303 [==============================] - 1s 4ms/step - loss: 1.7034 - mae: 0.9400 - val_loss: 8.6186 - val_mae: 2.2283\n",
            "Epoch 251/500\n",
            "303/303 [==============================] - 1s 4ms/step - loss: 1.5359 - mae: 0.8978 - val_loss: 10.1712 - val_mae: 2.2941\n",
            "Epoch 252/500\n",
            "303/303 [==============================] - 1s 4ms/step - loss: 1.5025 - mae: 0.9108 - val_loss: 9.3651 - val_mae: 2.2702\n",
            "Epoch 253/500\n",
            "303/303 [==============================] - 1s 4ms/step - loss: 1.5846 - mae: 0.9327 - val_loss: 9.9094 - val_mae: 2.3196\n",
            "Epoch 254/500\n",
            "303/303 [==============================] - 1s 4ms/step - loss: 1.6295 - mae: 0.9390 - val_loss: 10.0456 - val_mae: 2.3739\n",
            "Epoch 255/500\n",
            "303/303 [==============================] - 1s 4ms/step - loss: 1.5242 - mae: 0.8891 - val_loss: 9.3379 - val_mae: 2.2694\n",
            "Epoch 256/500\n",
            "303/303 [==============================] - 1s 4ms/step - loss: 1.4298 - mae: 0.8685 - val_loss: 9.7686 - val_mae: 2.3107\n",
            "Epoch 257/500\n",
            "303/303 [==============================] - 1s 4ms/step - loss: 1.5000 - mae: 0.9338 - val_loss: 9.8883 - val_mae: 2.2959\n",
            "Epoch 258/500\n",
            "303/303 [==============================] - 1s 4ms/step - loss: 1.5911 - mae: 0.8962 - val_loss: 11.5791 - val_mae: 2.5665\n",
            "Epoch 259/500\n",
            "303/303 [==============================] - 1s 4ms/step - loss: 1.5469 - mae: 0.9439 - val_loss: 9.3078 - val_mae: 2.1189\n",
            "Epoch 260/500\n",
            "303/303 [==============================] - 1s 4ms/step - loss: 1.4888 - mae: 0.8716 - val_loss: 10.2609 - val_mae: 2.2519\n",
            "Epoch 261/500\n",
            "303/303 [==============================] - 1s 4ms/step - loss: 1.5692 - mae: 0.8842 - val_loss: 9.3305 - val_mae: 2.1499\n",
            "Epoch 262/500\n",
            "303/303 [==============================] - 1s 4ms/step - loss: 1.4816 - mae: 0.8825 - val_loss: 10.8215 - val_mae: 2.3849\n",
            "Epoch 263/500\n",
            "303/303 [==============================] - 1s 4ms/step - loss: 1.6496 - mae: 0.9401 - val_loss: 10.6900 - val_mae: 2.4218\n",
            "Epoch 264/500\n",
            "303/303 [==============================] - 1s 4ms/step - loss: 1.3365 - mae: 0.8750 - val_loss: 11.1978 - val_mae: 2.4437\n",
            "Epoch 265/500\n",
            "303/303 [==============================] - 1s 4ms/step - loss: 1.4619 - mae: 0.8790 - val_loss: 10.0992 - val_mae: 2.3508\n",
            "Epoch 266/500\n",
            "303/303 [==============================] - 1s 4ms/step - loss: 1.5360 - mae: 0.9349 - val_loss: 9.7658 - val_mae: 2.1958\n",
            "Epoch 267/500\n",
            "303/303 [==============================] - 1s 4ms/step - loss: 1.4349 - mae: 0.8950 - val_loss: 10.0264 - val_mae: 2.2240\n",
            "Epoch 268/500\n",
            "303/303 [==============================] - 1s 4ms/step - loss: 1.4747 - mae: 0.8729 - val_loss: 11.6019 - val_mae: 2.5130\n",
            "Epoch 269/500\n",
            "303/303 [==============================] - 1s 4ms/step - loss: 1.4886 - mae: 0.9194 - val_loss: 9.2233 - val_mae: 2.2190\n",
            "Epoch 270/500\n",
            "303/303 [==============================] - 1s 4ms/step - loss: 1.3008 - mae: 0.8422 - val_loss: 10.2590 - val_mae: 2.3834\n",
            "Epoch 271/500\n",
            "303/303 [==============================] - 1s 4ms/step - loss: 1.6435 - mae: 0.9222 - val_loss: 10.4920 - val_mae: 2.3289\n",
            "Epoch 272/500\n",
            "303/303 [==============================] - 1s 4ms/step - loss: 1.4754 - mae: 0.8838 - val_loss: 9.8465 - val_mae: 2.2644\n",
            "Epoch 273/500\n",
            "303/303 [==============================] - 1s 4ms/step - loss: 1.5048 - mae: 0.8972 - val_loss: 9.9797 - val_mae: 2.3073\n",
            "Epoch 274/500\n",
            "303/303 [==============================] - 1s 4ms/step - loss: 1.5259 - mae: 0.8870 - val_loss: 10.3687 - val_mae: 2.3608\n",
            "Epoch 275/500\n",
            "303/303 [==============================] - 1s 4ms/step - loss: 1.5007 - mae: 0.8962 - val_loss: 10.0608 - val_mae: 2.3102\n",
            "Epoch 276/500\n",
            "303/303 [==============================] - 1s 4ms/step - loss: 1.3304 - mae: 0.8750 - val_loss: 9.5619 - val_mae: 2.1895\n",
            "Epoch 277/500\n",
            "303/303 [==============================] - 1s 4ms/step - loss: 1.5874 - mae: 0.8653 - val_loss: 9.1135 - val_mae: 2.2360\n",
            "Epoch 278/500\n",
            "303/303 [==============================] - 1s 4ms/step - loss: 1.4626 - mae: 0.8763 - val_loss: 9.6400 - val_mae: 2.2964\n",
            "Epoch 279/500\n",
            "303/303 [==============================] - 1s 4ms/step - loss: 1.3430 - mae: 0.8342 - val_loss: 9.6660 - val_mae: 2.3086\n",
            "Epoch 280/500\n",
            "303/303 [==============================] - 1s 4ms/step - loss: 1.3505 - mae: 0.8623 - val_loss: 10.2196 - val_mae: 2.3513\n",
            "Epoch 281/500\n",
            "303/303 [==============================] - 1s 4ms/step - loss: 1.3910 - mae: 0.8677 - val_loss: 9.5027 - val_mae: 2.1933\n",
            "Epoch 282/500\n",
            "303/303 [==============================] - 1s 4ms/step - loss: 1.3872 - mae: 0.8470 - val_loss: 9.8122 - val_mae: 2.2798\n",
            "Epoch 283/500\n",
            "303/303 [==============================] - 1s 4ms/step - loss: 1.5150 - mae: 0.8772 - val_loss: 10.7155 - val_mae: 2.4953\n",
            "Epoch 284/500\n",
            "303/303 [==============================] - 1s 4ms/step - loss: 1.4646 - mae: 0.8984 - val_loss: 8.9164 - val_mae: 2.2024\n",
            "Epoch 285/500\n",
            "303/303 [==============================] - 1s 4ms/step - loss: 1.1628 - mae: 0.7826 - val_loss: 9.0087 - val_mae: 2.2124\n",
            "Epoch 286/500\n",
            "303/303 [==============================] - 1s 4ms/step - loss: 1.2801 - mae: 0.8382 - val_loss: 9.7516 - val_mae: 2.2596\n",
            "Epoch 287/500\n",
            "303/303 [==============================] - 1s 4ms/step - loss: 1.3555 - mae: 0.8511 - val_loss: 9.2594 - val_mae: 2.1624\n",
            "Epoch 288/500\n",
            "303/303 [==============================] - 1s 4ms/step - loss: 1.5305 - mae: 0.8978 - val_loss: 11.6479 - val_mae: 2.4979\n",
            "Epoch 289/500\n",
            "303/303 [==============================] - 1s 4ms/step - loss: 1.3162 - mae: 0.8314 - val_loss: 10.1806 - val_mae: 2.3834\n",
            "Epoch 290/500\n",
            "303/303 [==============================] - 1s 4ms/step - loss: 1.3163 - mae: 0.8574 - val_loss: 10.3652 - val_mae: 2.3650\n",
            "Epoch 291/500\n",
            "303/303 [==============================] - 1s 4ms/step - loss: 1.3458 - mae: 0.8631 - val_loss: 10.9757 - val_mae: 2.5320\n",
            "Epoch 292/500\n",
            "303/303 [==============================] - 1s 4ms/step - loss: 1.3453 - mae: 0.8750 - val_loss: 9.6437 - val_mae: 2.2693\n",
            "Epoch 293/500\n",
            "303/303 [==============================] - 1s 4ms/step - loss: 1.4112 - mae: 0.8824 - val_loss: 10.0926 - val_mae: 2.2498\n",
            "Epoch 294/500\n",
            "303/303 [==============================] - 1s 4ms/step - loss: 1.2694 - mae: 0.8148 - val_loss: 9.8302 - val_mae: 2.2098\n",
            "Epoch 295/500\n",
            "303/303 [==============================] - 1s 4ms/step - loss: 1.3908 - mae: 0.8413 - val_loss: 11.0879 - val_mae: 2.4941\n",
            "Epoch 296/500\n",
            "303/303 [==============================] - 1s 4ms/step - loss: 1.3832 - mae: 0.8542 - val_loss: 9.7207 - val_mae: 2.2383\n",
            "Epoch 297/500\n",
            "303/303 [==============================] - 1s 4ms/step - loss: 1.2704 - mae: 0.8522 - val_loss: 10.3511 - val_mae: 2.2744\n",
            "Epoch 298/500\n",
            "303/303 [==============================] - 1s 4ms/step - loss: 1.4044 - mae: 0.8651 - val_loss: 9.6796 - val_mae: 2.3172\n",
            "Epoch 299/500\n",
            "303/303 [==============================] - 1s 4ms/step - loss: 1.4230 - mae: 0.8627 - val_loss: 9.6216 - val_mae: 2.2949\n",
            "Epoch 300/500\n",
            "303/303 [==============================] - 1s 4ms/step - loss: 1.2590 - mae: 0.8075 - val_loss: 10.1719 - val_mae: 2.3161\n",
            "Epoch 301/500\n",
            "303/303 [==============================] - 1s 4ms/step - loss: 1.3259 - mae: 0.8497 - val_loss: 10.5494 - val_mae: 2.3030\n",
            "Epoch 302/500\n",
            "303/303 [==============================] - 1s 4ms/step - loss: 1.3829 - mae: 0.8359 - val_loss: 9.5614 - val_mae: 2.2846\n",
            "Epoch 303/500\n",
            "303/303 [==============================] - 1s 4ms/step - loss: 1.3158 - mae: 0.8312 - val_loss: 9.6775 - val_mae: 2.1462\n",
            "Epoch 304/500\n",
            "303/303 [==============================] - 1s 4ms/step - loss: 1.3244 - mae: 0.8147 - val_loss: 9.8394 - val_mae: 2.1641\n",
            "Epoch 305/500\n",
            "303/303 [==============================] - 1s 4ms/step - loss: 1.5152 - mae: 0.8687 - val_loss: 9.9473 - val_mae: 2.2394\n",
            "Epoch 306/500\n",
            "303/303 [==============================] - 1s 4ms/step - loss: 1.1578 - mae: 0.8090 - val_loss: 10.1698 - val_mae: 2.2214\n",
            "Epoch 307/500\n",
            "303/303 [==============================] - 1s 4ms/step - loss: 1.2865 - mae: 0.8139 - val_loss: 9.7474 - val_mae: 2.2378\n",
            "Epoch 308/500\n",
            "303/303 [==============================] - 1s 4ms/step - loss: 1.2998 - mae: 0.8561 - val_loss: 10.4323 - val_mae: 2.3385\n",
            "Epoch 309/500\n",
            "303/303 [==============================] - 1s 4ms/step - loss: 1.3174 - mae: 0.8335 - val_loss: 9.5112 - val_mae: 2.1804\n",
            "Epoch 310/500\n",
            "303/303 [==============================] - 1s 4ms/step - loss: 1.2650 - mae: 0.7933 - val_loss: 9.8449 - val_mae: 2.2984\n",
            "Epoch 311/500\n",
            "303/303 [==============================] - 1s 4ms/step - loss: 1.1170 - mae: 0.7964 - val_loss: 9.4961 - val_mae: 2.2359\n",
            "Epoch 312/500\n",
            "303/303 [==============================] - 1s 4ms/step - loss: 1.3605 - mae: 0.8450 - val_loss: 10.0803 - val_mae: 2.4140\n",
            "Epoch 313/500\n",
            "303/303 [==============================] - 1s 4ms/step - loss: 1.2743 - mae: 0.7869 - val_loss: 9.1636 - val_mae: 2.1944\n",
            "Epoch 314/500\n",
            "303/303 [==============================] - 1s 4ms/step - loss: 1.2199 - mae: 0.8278 - val_loss: 9.0429 - val_mae: 2.2563\n",
            "Epoch 315/500\n",
            "303/303 [==============================] - 1s 4ms/step - loss: 1.3456 - mae: 0.8563 - val_loss: 10.0232 - val_mae: 2.2314\n",
            "Epoch 316/500\n",
            "303/303 [==============================] - 1s 4ms/step - loss: 1.1330 - mae: 0.8182 - val_loss: 10.0571 - val_mae: 2.2431\n",
            "Epoch 317/500\n",
            "303/303 [==============================] - 1s 4ms/step - loss: 1.1942 - mae: 0.8055 - val_loss: 9.7710 - val_mae: 2.2250\n",
            "Epoch 318/500\n",
            "303/303 [==============================] - 1s 4ms/step - loss: 1.1465 - mae: 0.7964 - val_loss: 9.8291 - val_mae: 2.3214\n",
            "Epoch 319/500\n",
            "303/303 [==============================] - 1s 4ms/step - loss: 1.2252 - mae: 0.8086 - val_loss: 9.8674 - val_mae: 2.2338\n",
            "Epoch 320/500\n",
            "303/303 [==============================] - 1s 4ms/step - loss: 1.3357 - mae: 0.8176 - val_loss: 9.2226 - val_mae: 2.1786\n",
            "Epoch 321/500\n",
            "303/303 [==============================] - 1s 4ms/step - loss: 1.1904 - mae: 0.8155 - val_loss: 9.5310 - val_mae: 2.2782\n",
            "Epoch 322/500\n",
            "303/303 [==============================] - 1s 4ms/step - loss: 1.3872 - mae: 0.8175 - val_loss: 9.8212 - val_mae: 2.3148\n",
            "Epoch 323/500\n",
            "303/303 [==============================] - 1s 4ms/step - loss: 1.0578 - mae: 0.7896 - val_loss: 9.8699 - val_mae: 2.2474\n",
            "Epoch 324/500\n",
            "303/303 [==============================] - 1s 4ms/step - loss: 1.2911 - mae: 0.8564 - val_loss: 9.3385 - val_mae: 2.1718\n",
            "Epoch 325/500\n",
            "303/303 [==============================] - 1s 4ms/step - loss: 1.1894 - mae: 0.8076 - val_loss: 11.1584 - val_mae: 2.4230\n",
            "Epoch 326/500\n",
            "303/303 [==============================] - 1s 4ms/step - loss: 1.2380 - mae: 0.8121 - val_loss: 9.1232 - val_mae: 2.1633\n",
            "Epoch 327/500\n",
            "303/303 [==============================] - 1s 4ms/step - loss: 1.1960 - mae: 0.7754 - val_loss: 9.4761 - val_mae: 2.2186\n",
            "Epoch 328/500\n",
            "303/303 [==============================] - 1s 4ms/step - loss: 1.1072 - mae: 0.7812 - val_loss: 10.0018 - val_mae: 2.3735\n",
            "Epoch 329/500\n",
            "303/303 [==============================] - 1s 4ms/step - loss: 1.2656 - mae: 0.8115 - val_loss: 11.0284 - val_mae: 2.4594\n",
            "Epoch 330/500\n",
            "303/303 [==============================] - 1s 4ms/step - loss: 1.2212 - mae: 0.7922 - val_loss: 10.7446 - val_mae: 2.4069\n",
            "Epoch 331/500\n",
            "303/303 [==============================] - 1s 4ms/step - loss: 1.2600 - mae: 0.8242 - val_loss: 10.1756 - val_mae: 2.3825\n",
            "Epoch 332/500\n",
            "303/303 [==============================] - 1s 4ms/step - loss: 1.2243 - mae: 0.8107 - val_loss: 10.2342 - val_mae: 2.3260\n",
            "Epoch 333/500\n",
            "303/303 [==============================] - 1s 4ms/step - loss: 1.2701 - mae: 0.7798 - val_loss: 9.7588 - val_mae: 2.2521\n",
            "Epoch 334/500\n",
            "303/303 [==============================] - 1s 4ms/step - loss: 1.2285 - mae: 0.8140 - val_loss: 9.5847 - val_mae: 2.2799\n",
            "Epoch 335/500\n",
            "303/303 [==============================] - 1s 4ms/step - loss: 1.2197 - mae: 0.8209 - val_loss: 10.6424 - val_mae: 2.4091\n",
            "Epoch 336/500\n",
            "303/303 [==============================] - 1s 4ms/step - loss: 1.1920 - mae: 0.7956 - val_loss: 10.3106 - val_mae: 2.3054\n",
            "Epoch 337/500\n",
            "303/303 [==============================] - 1s 4ms/step - loss: 1.1763 - mae: 0.7853 - val_loss: 10.1912 - val_mae: 2.3066\n",
            "Epoch 338/500\n",
            "303/303 [==============================] - 1s 4ms/step - loss: 1.2650 - mae: 0.8004 - val_loss: 9.3318 - val_mae: 2.2006\n",
            "Epoch 339/500\n",
            "303/303 [==============================] - 1s 4ms/step - loss: 1.3572 - mae: 0.7875 - val_loss: 10.8404 - val_mae: 2.3998\n",
            "Epoch 340/500\n",
            "303/303 [==============================] - 1s 4ms/step - loss: 1.1036 - mae: 0.7783 - val_loss: 11.0215 - val_mae: 2.5101\n",
            "Epoch 341/500\n",
            "303/303 [==============================] - 1s 4ms/step - loss: 1.1255 - mae: 0.7617 - val_loss: 10.8871 - val_mae: 2.3614\n",
            "Epoch 342/500\n",
            "303/303 [==============================] - 1s 4ms/step - loss: 1.2811 - mae: 0.8063 - val_loss: 10.6461 - val_mae: 2.3598\n",
            "Epoch 343/500\n",
            "303/303 [==============================] - 1s 4ms/step - loss: 1.1978 - mae: 0.7999 - val_loss: 10.2222 - val_mae: 2.2775\n",
            "Epoch 344/500\n",
            "303/303 [==============================] - 1s 4ms/step - loss: 1.2065 - mae: 0.8158 - val_loss: 10.2131 - val_mae: 2.2967\n",
            "Epoch 345/500\n",
            "303/303 [==============================] - 1s 4ms/step - loss: 1.2007 - mae: 0.8235 - val_loss: 10.5157 - val_mae: 2.3755\n",
            "Epoch 346/500\n",
            "303/303 [==============================] - 1s 4ms/step - loss: 1.1940 - mae: 0.8019 - val_loss: 10.0563 - val_mae: 2.2639\n",
            "Epoch 347/500\n",
            "303/303 [==============================] - 1s 4ms/step - loss: 1.1004 - mae: 0.7652 - val_loss: 10.1240 - val_mae: 2.2582\n",
            "Epoch 348/500\n",
            "303/303 [==============================] - 1s 4ms/step - loss: 1.2054 - mae: 0.7981 - val_loss: 9.9545 - val_mae: 2.1921\n",
            "Epoch 349/500\n",
            "303/303 [==============================] - 1s 4ms/step - loss: 1.1018 - mae: 0.7731 - val_loss: 11.4050 - val_mae: 2.4884\n",
            "Epoch 350/500\n",
            "303/303 [==============================] - 1s 4ms/step - loss: 1.2411 - mae: 0.8006 - val_loss: 11.9097 - val_mae: 2.5050\n",
            "Epoch 351/500\n",
            "303/303 [==============================] - 1s 4ms/step - loss: 1.2206 - mae: 0.7719 - val_loss: 9.6268 - val_mae: 2.1663\n",
            "Epoch 352/500\n",
            "303/303 [==============================] - 1s 4ms/step - loss: 1.1160 - mae: 0.7610 - val_loss: 10.5985 - val_mae: 2.3199\n",
            "Epoch 353/500\n",
            "303/303 [==============================] - 1s 4ms/step - loss: 0.9813 - mae: 0.7154 - val_loss: 10.7238 - val_mae: 2.3883\n",
            "Epoch 354/500\n",
            "303/303 [==============================] - 1s 4ms/step - loss: 1.0541 - mae: 0.7668 - val_loss: 10.6876 - val_mae: 2.3600\n",
            "Epoch 355/500\n",
            "303/303 [==============================] - 1s 4ms/step - loss: 1.1876 - mae: 0.7812 - val_loss: 10.3240 - val_mae: 2.2943\n",
            "Epoch 356/500\n",
            "303/303 [==============================] - 1s 4ms/step - loss: 1.1548 - mae: 0.7958 - val_loss: 10.2832 - val_mae: 2.2690\n",
            "Epoch 357/500\n",
            "303/303 [==============================] - 1s 4ms/step - loss: 1.1627 - mae: 0.8024 - val_loss: 10.0954 - val_mae: 2.2670\n",
            "Epoch 358/500\n",
            "303/303 [==============================] - 1s 4ms/step - loss: 1.1138 - mae: 0.7575 - val_loss: 10.0465 - val_mae: 2.3229\n",
            "Epoch 359/500\n",
            "303/303 [==============================] - 1s 4ms/step - loss: 1.1053 - mae: 0.7549 - val_loss: 11.0850 - val_mae: 2.4403\n",
            "Epoch 360/500\n",
            "303/303 [==============================] - 1s 4ms/step - loss: 1.0667 - mae: 0.7494 - val_loss: 11.3009 - val_mae: 2.5000\n",
            "Epoch 361/500\n",
            "303/303 [==============================] - 1s 4ms/step - loss: 1.0182 - mae: 0.7592 - val_loss: 11.1516 - val_mae: 2.4260\n",
            "Epoch 362/500\n",
            "303/303 [==============================] - 1s 4ms/step - loss: 1.0719 - mae: 0.7529 - val_loss: 9.7827 - val_mae: 2.2523\n",
            "Epoch 363/500\n",
            "303/303 [==============================] - 1s 4ms/step - loss: 1.0263 - mae: 0.7585 - val_loss: 10.2214 - val_mae: 2.2623\n",
            "Epoch 364/500\n",
            "303/303 [==============================] - 1s 4ms/step - loss: 1.1248 - mae: 0.7511 - val_loss: 10.7980 - val_mae: 2.2916\n",
            "Epoch 365/500\n",
            "303/303 [==============================] - 1s 4ms/step - loss: 1.0089 - mae: 0.7547 - val_loss: 11.4849 - val_mae: 2.5380\n",
            "Epoch 366/500\n",
            "303/303 [==============================] - 1s 4ms/step - loss: 1.2332 - mae: 0.8060 - val_loss: 10.7917 - val_mae: 2.3511\n",
            "Epoch 367/500\n",
            "303/303 [==============================] - 1s 4ms/step - loss: 0.9538 - mae: 0.7283 - val_loss: 10.4687 - val_mae: 2.3420\n",
            "Epoch 368/500\n",
            "303/303 [==============================] - 1s 4ms/step - loss: 1.2394 - mae: 0.7659 - val_loss: 9.0980 - val_mae: 2.1773\n",
            "Epoch 369/500\n",
            "303/303 [==============================] - 1s 4ms/step - loss: 1.1048 - mae: 0.7962 - val_loss: 10.8634 - val_mae: 2.5196\n",
            "Epoch 370/500\n",
            "303/303 [==============================] - 1s 4ms/step - loss: 1.0362 - mae: 0.7100 - val_loss: 8.9544 - val_mae: 2.2467\n",
            "Epoch 371/500\n",
            "303/303 [==============================] - 1s 4ms/step - loss: 1.0380 - mae: 0.7089 - val_loss: 9.3317 - val_mae: 2.1793\n",
            "Epoch 372/500\n",
            "303/303 [==============================] - 1s 4ms/step - loss: 0.9348 - mae: 0.7248 - val_loss: 10.1213 - val_mae: 2.3516\n",
            "Epoch 373/500\n",
            "303/303 [==============================] - 1s 4ms/step - loss: 1.1496 - mae: 0.7805 - val_loss: 9.8043 - val_mae: 2.2897\n",
            "Epoch 374/500\n",
            "303/303 [==============================] - 1s 4ms/step - loss: 0.9796 - mae: 0.7637 - val_loss: 9.2460 - val_mae: 2.2889\n",
            "Epoch 375/500\n",
            "303/303 [==============================] - 1s 4ms/step - loss: 1.0389 - mae: 0.7506 - val_loss: 9.0857 - val_mae: 2.1670\n",
            "Epoch 376/500\n",
            "303/303 [==============================] - 1s 4ms/step - loss: 1.0396 - mae: 0.7517 - val_loss: 10.6379 - val_mae: 2.4532\n",
            "Epoch 377/500\n",
            "303/303 [==============================] - 1s 4ms/step - loss: 1.0776 - mae: 0.7425 - val_loss: 9.6520 - val_mae: 2.2042\n",
            "Epoch 378/500\n",
            "303/303 [==============================] - 1s 4ms/step - loss: 0.9988 - mae: 0.7270 - val_loss: 10.2081 - val_mae: 2.2960\n",
            "Epoch 379/500\n",
            "303/303 [==============================] - 1s 4ms/step - loss: 1.1081 - mae: 0.7610 - val_loss: 9.1665 - val_mae: 2.2290\n",
            "Epoch 380/500\n",
            "303/303 [==============================] - 1s 5ms/step - loss: 1.0976 - mae: 0.7603 - val_loss: 9.5219 - val_mae: 2.2312\n",
            "Epoch 381/500\n",
            "303/303 [==============================] - 1s 4ms/step - loss: 0.9731 - mae: 0.7454 - val_loss: 9.5495 - val_mae: 2.2266\n",
            "Epoch 382/500\n",
            "303/303 [==============================] - 1s 4ms/step - loss: 1.0547 - mae: 0.7348 - val_loss: 9.4525 - val_mae: 2.2232\n",
            "Epoch 383/500\n",
            "303/303 [==============================] - 1s 4ms/step - loss: 1.0502 - mae: 0.7264 - val_loss: 9.7419 - val_mae: 2.2820\n",
            "Epoch 384/500\n",
            "303/303 [==============================] - 1s 4ms/step - loss: 1.0167 - mae: 0.7399 - val_loss: 9.5177 - val_mae: 2.2893\n",
            "Epoch 385/500\n",
            "303/303 [==============================] - 1s 4ms/step - loss: 0.9027 - mae: 0.6967 - val_loss: 10.4169 - val_mae: 2.3715\n",
            "Epoch 386/500\n",
            "303/303 [==============================] - 1s 4ms/step - loss: 1.0585 - mae: 0.7199 - val_loss: 10.8355 - val_mae: 2.3085\n",
            "Epoch 387/500\n",
            "303/303 [==============================] - 1s 4ms/step - loss: 1.0335 - mae: 0.7432 - val_loss: 9.2737 - val_mae: 2.1462\n",
            "Epoch 388/500\n",
            "303/303 [==============================] - 1s 4ms/step - loss: 1.0330 - mae: 0.7457 - val_loss: 11.1888 - val_mae: 2.4507\n",
            "Epoch 389/500\n",
            "303/303 [==============================] - 1s 4ms/step - loss: 0.9347 - mae: 0.7277 - val_loss: 11.6205 - val_mae: 2.4835\n",
            "Epoch 390/500\n",
            "303/303 [==============================] - 1s 4ms/step - loss: 0.9822 - mae: 0.7022 - val_loss: 9.4072 - val_mae: 2.2788\n",
            "Epoch 391/500\n",
            "303/303 [==============================] - 1s 4ms/step - loss: 1.1670 - mae: 0.7846 - val_loss: 10.0263 - val_mae: 2.3025\n",
            "Epoch 392/500\n",
            "303/303 [==============================] - 1s 4ms/step - loss: 1.0424 - mae: 0.7423 - val_loss: 10.2738 - val_mae: 2.3859\n",
            "Epoch 393/500\n",
            "303/303 [==============================] - 1s 4ms/step - loss: 0.8987 - mae: 0.7158 - val_loss: 10.3521 - val_mae: 2.3650\n",
            "Epoch 394/500\n",
            "303/303 [==============================] - 1s 4ms/step - loss: 1.1465 - mae: 0.7804 - val_loss: 10.5206 - val_mae: 2.3258\n",
            "Epoch 395/500\n",
            "303/303 [==============================] - 1s 4ms/step - loss: 0.9323 - mae: 0.7157 - val_loss: 10.6330 - val_mae: 2.3788\n",
            "Epoch 396/500\n",
            "303/303 [==============================] - 1s 4ms/step - loss: 1.0513 - mae: 0.7462 - val_loss: 11.2277 - val_mae: 2.4480\n",
            "Epoch 397/500\n",
            "303/303 [==============================] - 1s 4ms/step - loss: 0.9793 - mae: 0.7220 - val_loss: 9.8080 - val_mae: 2.2549\n",
            "Epoch 398/500\n",
            "303/303 [==============================] - 1s 4ms/step - loss: 1.0228 - mae: 0.7478 - val_loss: 10.4931 - val_mae: 2.4139\n",
            "Epoch 399/500\n",
            "303/303 [==============================] - 1s 4ms/step - loss: 0.9227 - mae: 0.7169 - val_loss: 9.9916 - val_mae: 2.2957\n",
            "Epoch 400/500\n",
            "303/303 [==============================] - 1s 4ms/step - loss: 1.0129 - mae: 0.7334 - val_loss: 10.2883 - val_mae: 2.3302\n",
            "Epoch 401/500\n",
            "303/303 [==============================] - 1s 4ms/step - loss: 0.9717 - mae: 0.7236 - val_loss: 11.5112 - val_mae: 2.3874\n",
            "Epoch 402/500\n",
            "303/303 [==============================] - 1s 4ms/step - loss: 0.9131 - mae: 0.7197 - val_loss: 10.2222 - val_mae: 2.2418\n",
            "Epoch 403/500\n",
            "303/303 [==============================] - 1s 4ms/step - loss: 1.1022 - mae: 0.7590 - val_loss: 10.0186 - val_mae: 2.2755\n",
            "Epoch 404/500\n",
            "303/303 [==============================] - 1s 4ms/step - loss: 0.9930 - mae: 0.7285 - val_loss: 9.9762 - val_mae: 2.2784\n",
            "Epoch 405/500\n",
            "303/303 [==============================] - 1s 4ms/step - loss: 0.9206 - mae: 0.7042 - val_loss: 11.1938 - val_mae: 2.4104\n",
            "Epoch 406/500\n",
            "303/303 [==============================] - 1s 4ms/step - loss: 0.9682 - mae: 0.7298 - val_loss: 9.2160 - val_mae: 2.2586\n",
            "Epoch 407/500\n",
            "303/303 [==============================] - 1s 4ms/step - loss: 1.0698 - mae: 0.7659 - val_loss: 10.1133 - val_mae: 2.2571\n",
            "Epoch 408/500\n",
            "303/303 [==============================] - 1s 4ms/step - loss: 0.9694 - mae: 0.7128 - val_loss: 9.9838 - val_mae: 2.2987\n",
            "Epoch 409/500\n",
            "303/303 [==============================] - 1s 4ms/step - loss: 1.0921 - mae: 0.7382 - val_loss: 10.0385 - val_mae: 2.1840\n",
            "Epoch 410/500\n",
            "303/303 [==============================] - 1s 4ms/step - loss: 0.7447 - mae: 0.6532 - val_loss: 11.5669 - val_mae: 2.4350\n",
            "Epoch 411/500\n",
            "303/303 [==============================] - 1s 4ms/step - loss: 1.0749 - mae: 0.7514 - val_loss: 9.8297 - val_mae: 2.2632\n",
            "Epoch 412/500\n",
            "303/303 [==============================] - 1s 4ms/step - loss: 0.9341 - mae: 0.7123 - val_loss: 10.0695 - val_mae: 2.3134\n",
            "Epoch 413/500\n",
            "303/303 [==============================] - 1s 4ms/step - loss: 0.8757 - mae: 0.6973 - val_loss: 8.9385 - val_mae: 2.1951\n",
            "Epoch 414/500\n",
            "303/303 [==============================] - 1s 4ms/step - loss: 1.0166 - mae: 0.7115 - val_loss: 9.6495 - val_mae: 2.1929\n",
            "Epoch 415/500\n",
            "303/303 [==============================] - 1s 4ms/step - loss: 0.9525 - mae: 0.7140 - val_loss: 10.5618 - val_mae: 2.3693\n",
            "Epoch 416/500\n",
            "303/303 [==============================] - 1s 4ms/step - loss: 0.9682 - mae: 0.6951 - val_loss: 9.8967 - val_mae: 2.2880\n",
            "Epoch 417/500\n",
            "303/303 [==============================] - 1s 4ms/step - loss: 0.9986 - mae: 0.7377 - val_loss: 10.0324 - val_mae: 2.2318\n",
            "Epoch 418/500\n",
            "303/303 [==============================] - 1s 4ms/step - loss: 0.9287 - mae: 0.7010 - val_loss: 11.7738 - val_mae: 2.4573\n",
            "Epoch 419/500\n",
            "303/303 [==============================] - 1s 4ms/step - loss: 0.9840 - mae: 0.7101 - val_loss: 9.5043 - val_mae: 2.2853\n",
            "Epoch 420/500\n",
            "303/303 [==============================] - 1s 4ms/step - loss: 1.0045 - mae: 0.6928 - val_loss: 9.5257 - val_mae: 2.3211\n",
            "Epoch 421/500\n",
            "303/303 [==============================] - 1s 4ms/step - loss: 0.9575 - mae: 0.6971 - val_loss: 10.0502 - val_mae: 2.2570\n",
            "Epoch 422/500\n",
            "303/303 [==============================] - 1s 4ms/step - loss: 0.9514 - mae: 0.6559 - val_loss: 11.7369 - val_mae: 2.5455\n",
            "Epoch 423/500\n",
            "303/303 [==============================] - 1s 4ms/step - loss: 0.9643 - mae: 0.7269 - val_loss: 10.4577 - val_mae: 2.3435\n",
            "Epoch 424/500\n",
            "303/303 [==============================] - 1s 4ms/step - loss: 0.8801 - mae: 0.6789 - val_loss: 11.6338 - val_mae: 2.4954\n",
            "Epoch 425/500\n",
            "303/303 [==============================] - 1s 4ms/step - loss: 0.9515 - mae: 0.7147 - val_loss: 11.0282 - val_mae: 2.4184\n",
            "Epoch 426/500\n",
            "303/303 [==============================] - 1s 4ms/step - loss: 0.9329 - mae: 0.7216 - val_loss: 10.9876 - val_mae: 2.4501\n",
            "Epoch 427/500\n",
            "303/303 [==============================] - 1s 4ms/step - loss: 1.0194 - mae: 0.7158 - val_loss: 10.0645 - val_mae: 2.3468\n",
            "Epoch 428/500\n",
            "303/303 [==============================] - 1s 4ms/step - loss: 0.8648 - mae: 0.6970 - val_loss: 9.8089 - val_mae: 2.1903\n",
            "Epoch 429/500\n",
            "303/303 [==============================] - 1s 4ms/step - loss: 1.0245 - mae: 0.7013 - val_loss: 11.5928 - val_mae: 2.4411\n",
            "Epoch 430/500\n",
            "303/303 [==============================] - 1s 4ms/step - loss: 0.9395 - mae: 0.7245 - val_loss: 10.5748 - val_mae: 2.3840\n",
            "Epoch 431/500\n",
            "303/303 [==============================] - 1s 4ms/step - loss: 0.9003 - mae: 0.7073 - val_loss: 10.6840 - val_mae: 2.4085\n",
            "Epoch 432/500\n",
            "303/303 [==============================] - 1s 4ms/step - loss: 0.8517 - mae: 0.6747 - val_loss: 11.0349 - val_mae: 2.3711\n",
            "Epoch 433/500\n",
            "303/303 [==============================] - 1s 4ms/step - loss: 0.9675 - mae: 0.7008 - val_loss: 9.7707 - val_mae: 2.2952\n",
            "Epoch 434/500\n",
            "303/303 [==============================] - 1s 4ms/step - loss: 0.9406 - mae: 0.7218 - val_loss: 9.8403 - val_mae: 2.3329\n",
            "Epoch 435/500\n",
            "303/303 [==============================] - 1s 4ms/step - loss: 0.9732 - mae: 0.7100 - val_loss: 10.0276 - val_mae: 2.2893\n",
            "Epoch 436/500\n",
            "303/303 [==============================] - 1s 4ms/step - loss: 1.0273 - mae: 0.7151 - val_loss: 10.0846 - val_mae: 2.3436\n",
            "Epoch 437/500\n",
            "303/303 [==============================] - 1s 4ms/step - loss: 0.8321 - mae: 0.6499 - val_loss: 10.7166 - val_mae: 2.4176\n",
            "Epoch 438/500\n",
            "303/303 [==============================] - 1s 4ms/step - loss: 0.9866 - mae: 0.7070 - val_loss: 11.2845 - val_mae: 2.4703\n",
            "Epoch 439/500\n",
            "303/303 [==============================] - 1s 4ms/step - loss: 0.8719 - mae: 0.6617 - val_loss: 9.0686 - val_mae: 2.2222\n",
            "Epoch 440/500\n",
            "303/303 [==============================] - 1s 4ms/step - loss: 0.9319 - mae: 0.7205 - val_loss: 10.5207 - val_mae: 2.4542\n",
            "Epoch 441/500\n",
            "303/303 [==============================] - 1s 4ms/step - loss: 1.0115 - mae: 0.7131 - val_loss: 10.4528 - val_mae: 2.3456\n",
            "Epoch 442/500\n",
            "303/303 [==============================] - 1s 4ms/step - loss: 0.8551 - mae: 0.6828 - val_loss: 10.8499 - val_mae: 2.4432\n",
            "Epoch 443/500\n",
            "303/303 [==============================] - 1s 4ms/step - loss: 0.9562 - mae: 0.6952 - val_loss: 10.1404 - val_mae: 2.3754\n",
            "Epoch 444/500\n",
            "303/303 [==============================] - 1s 4ms/step - loss: 0.7780 - mae: 0.6640 - val_loss: 10.1354 - val_mae: 2.3870\n",
            "Epoch 445/500\n",
            "303/303 [==============================] - 1s 4ms/step - loss: 0.8929 - mae: 0.7054 - val_loss: 9.4504 - val_mae: 2.2344\n",
            "Epoch 446/500\n",
            "303/303 [==============================] - 1s 4ms/step - loss: 0.8207 - mae: 0.6828 - val_loss: 10.0351 - val_mae: 2.3617\n",
            "Epoch 447/500\n",
            "303/303 [==============================] - 1s 4ms/step - loss: 1.0595 - mae: 0.7271 - val_loss: 10.2597 - val_mae: 2.3035\n",
            "Epoch 448/500\n",
            "303/303 [==============================] - 1s 4ms/step - loss: 0.8400 - mae: 0.6839 - val_loss: 9.9991 - val_mae: 2.2847\n",
            "Epoch 449/500\n",
            "303/303 [==============================] - 1s 4ms/step - loss: 0.8272 - mae: 0.6904 - val_loss: 9.7375 - val_mae: 2.3293\n",
            "Epoch 450/500\n",
            "303/303 [==============================] - 1s 4ms/step - loss: 0.9687 - mae: 0.6936 - val_loss: 10.2807 - val_mae: 2.3969\n",
            "Epoch 451/500\n",
            "303/303 [==============================] - 1s 4ms/step - loss: 0.8868 - mae: 0.6886 - val_loss: 10.1903 - val_mae: 2.4371\n",
            "Epoch 452/500\n",
            "303/303 [==============================] - 1s 4ms/step - loss: 0.8765 - mae: 0.6897 - val_loss: 9.6801 - val_mae: 2.2766\n",
            "Epoch 453/500\n",
            "303/303 [==============================] - 1s 4ms/step - loss: 0.9360 - mae: 0.7198 - val_loss: 9.3639 - val_mae: 2.2577\n",
            "Epoch 454/500\n",
            "303/303 [==============================] - 1s 4ms/step - loss: 0.9682 - mae: 0.7001 - val_loss: 10.5036 - val_mae: 2.3897\n",
            "Epoch 455/500\n",
            "303/303 [==============================] - 1s 4ms/step - loss: 0.8928 - mae: 0.6943 - val_loss: 9.4739 - val_mae: 2.2784\n",
            "Epoch 456/500\n",
            "303/303 [==============================] - 1s 4ms/step - loss: 0.7729 - mae: 0.6512 - val_loss: 10.8111 - val_mae: 2.4086\n",
            "Epoch 457/500\n",
            "303/303 [==============================] - 1s 4ms/step - loss: 0.8508 - mae: 0.6577 - val_loss: 10.4219 - val_mae: 2.2616\n",
            "Epoch 458/500\n",
            "303/303 [==============================] - 1s 4ms/step - loss: 0.9834 - mae: 0.7052 - val_loss: 10.0294 - val_mae: 2.3140\n",
            "Epoch 459/500\n",
            "303/303 [==============================] - 1s 4ms/step - loss: 0.9060 - mae: 0.6892 - val_loss: 10.4147 - val_mae: 2.3550\n",
            "Epoch 460/500\n",
            "303/303 [==============================] - 1s 4ms/step - loss: 0.9365 - mae: 0.7049 - val_loss: 10.4577 - val_mae: 2.4445\n",
            "Epoch 461/500\n",
            "303/303 [==============================] - 1s 4ms/step - loss: 0.8371 - mae: 0.6745 - val_loss: 10.3725 - val_mae: 2.3508\n",
            "Epoch 462/500\n",
            "303/303 [==============================] - 1s 4ms/step - loss: 0.7696 - mae: 0.6213 - val_loss: 11.0468 - val_mae: 2.4634\n",
            "Epoch 463/500\n",
            "303/303 [==============================] - 1s 4ms/step - loss: 1.0333 - mae: 0.7359 - val_loss: 10.2988 - val_mae: 2.4269\n",
            "Epoch 464/500\n",
            "303/303 [==============================] - 1s 4ms/step - loss: 0.9216 - mae: 0.6776 - val_loss: 10.3385 - val_mae: 2.4148\n",
            "Epoch 465/500\n",
            "303/303 [==============================] - 1s 4ms/step - loss: 0.9570 - mae: 0.7319 - val_loss: 10.4724 - val_mae: 2.3757\n",
            "Epoch 466/500\n",
            "303/303 [==============================] - 1s 4ms/step - loss: 0.8896 - mae: 0.6676 - val_loss: 9.5003 - val_mae: 2.2117\n",
            "Epoch 467/500\n",
            "303/303 [==============================] - 1s 4ms/step - loss: 0.9218 - mae: 0.6706 - val_loss: 10.4825 - val_mae: 2.3677\n",
            "Epoch 468/500\n",
            "303/303 [==============================] - 1s 4ms/step - loss: 0.7989 - mae: 0.6549 - val_loss: 10.2420 - val_mae: 2.3318\n",
            "Epoch 469/500\n",
            "303/303 [==============================] - 1s 4ms/step - loss: 0.8394 - mae: 0.6624 - val_loss: 10.7735 - val_mae: 2.4499\n",
            "Epoch 470/500\n",
            "303/303 [==============================] - 1s 4ms/step - loss: 0.9627 - mae: 0.7114 - val_loss: 10.6220 - val_mae: 2.3779\n",
            "Epoch 471/500\n",
            "303/303 [==============================] - 1s 4ms/step - loss: 0.9861 - mae: 0.7012 - val_loss: 10.8282 - val_mae: 2.3856\n",
            "Epoch 472/500\n",
            "303/303 [==============================] - 1s 4ms/step - loss: 0.8095 - mae: 0.6536 - val_loss: 10.1608 - val_mae: 2.4170\n",
            "Epoch 473/500\n",
            "303/303 [==============================] - 1s 4ms/step - loss: 0.8755 - mae: 0.6749 - val_loss: 10.0238 - val_mae: 2.2699\n",
            "Epoch 474/500\n",
            "303/303 [==============================] - 1s 4ms/step - loss: 0.9885 - mae: 0.7249 - val_loss: 10.1806 - val_mae: 2.3186\n",
            "Epoch 475/500\n",
            "303/303 [==============================] - 1s 4ms/step - loss: 0.8321 - mae: 0.6779 - val_loss: 11.2565 - val_mae: 2.4455\n",
            "Epoch 476/500\n",
            "303/303 [==============================] - 1s 4ms/step - loss: 0.9058 - mae: 0.6653 - val_loss: 11.3182 - val_mae: 2.6316\n",
            "Epoch 477/500\n",
            "303/303 [==============================] - 1s 4ms/step - loss: 0.9182 - mae: 0.6945 - val_loss: 10.4043 - val_mae: 2.3324\n",
            "Epoch 478/500\n",
            "303/303 [==============================] - 1s 4ms/step - loss: 0.8787 - mae: 0.6899 - val_loss: 10.8034 - val_mae: 2.4130\n",
            "Epoch 479/500\n",
            "303/303 [==============================] - 1s 4ms/step - loss: 0.8778 - mae: 0.6945 - val_loss: 10.4411 - val_mae: 2.3610\n",
            "Epoch 480/500\n",
            "303/303 [==============================] - 1s 4ms/step - loss: 0.7732 - mae: 0.6577 - val_loss: 12.6817 - val_mae: 2.5727\n",
            "Epoch 481/500\n",
            "303/303 [==============================] - 1s 4ms/step - loss: 0.9210 - mae: 0.6859 - val_loss: 10.4446 - val_mae: 2.3511\n",
            "Epoch 482/500\n",
            "303/303 [==============================] - 1s 4ms/step - loss: 0.8224 - mae: 0.6744 - val_loss: 9.3845 - val_mae: 2.2855\n",
            "Epoch 483/500\n",
            "303/303 [==============================] - 1s 4ms/step - loss: 0.9036 - mae: 0.7240 - val_loss: 9.7473 - val_mae: 2.2922\n",
            "Epoch 484/500\n",
            "303/303 [==============================] - 1s 4ms/step - loss: 0.8005 - mae: 0.6583 - val_loss: 10.0778 - val_mae: 2.3178\n",
            "Epoch 485/500\n",
            "303/303 [==============================] - 1s 4ms/step - loss: 0.7322 - mae: 0.6574 - val_loss: 10.0770 - val_mae: 2.4002\n",
            "Epoch 486/500\n",
            "303/303 [==============================] - 1s 4ms/step - loss: 0.8387 - mae: 0.6470 - val_loss: 11.1791 - val_mae: 2.4236\n",
            "Epoch 487/500\n",
            "303/303 [==============================] - 1s 4ms/step - loss: 0.9442 - mae: 0.6991 - val_loss: 10.2464 - val_mae: 2.2802\n",
            "Epoch 488/500\n",
            "303/303 [==============================] - 1s 4ms/step - loss: 0.7471 - mae: 0.6459 - val_loss: 9.9446 - val_mae: 2.3211\n",
            "Epoch 489/500\n",
            "303/303 [==============================] - 1s 4ms/step - loss: 0.9700 - mae: 0.7125 - val_loss: 10.7226 - val_mae: 2.3454\n",
            "Epoch 490/500\n",
            "303/303 [==============================] - 1s 4ms/step - loss: 0.8845 - mae: 0.6664 - val_loss: 10.2283 - val_mae: 2.4066\n",
            "Epoch 491/500\n",
            "303/303 [==============================] - 1s 4ms/step - loss: 0.8605 - mae: 0.6335 - val_loss: 9.8512 - val_mae: 2.2696\n",
            "Epoch 492/500\n",
            "303/303 [==============================] - 1s 4ms/step - loss: 0.8348 - mae: 0.6795 - val_loss: 10.1005 - val_mae: 2.3593\n",
            "Epoch 493/500\n",
            "303/303 [==============================] - 1s 4ms/step - loss: 0.7816 - mae: 0.6727 - val_loss: 10.0932 - val_mae: 2.2888\n",
            "Epoch 494/500\n",
            "303/303 [==============================] - 1s 4ms/step - loss: 0.9158 - mae: 0.6682 - val_loss: 10.2140 - val_mae: 2.3736\n",
            "Epoch 495/500\n",
            "303/303 [==============================] - 1s 4ms/step - loss: 0.8608 - mae: 0.6456 - val_loss: 10.4579 - val_mae: 2.3211\n",
            "Epoch 496/500\n",
            "303/303 [==============================] - 1s 4ms/step - loss: 0.7780 - mae: 0.6507 - val_loss: 10.0539 - val_mae: 2.4697\n",
            "Epoch 497/500\n",
            "303/303 [==============================] - 1s 4ms/step - loss: 0.8994 - mae: 0.6952 - val_loss: 10.8031 - val_mae: 2.4604\n",
            "Epoch 498/500\n",
            "303/303 [==============================] - 1s 4ms/step - loss: 0.8300 - mae: 0.6831 - val_loss: 11.5656 - val_mae: 2.4685\n",
            "Epoch 499/500\n",
            "303/303 [==============================] - 1s 4ms/step - loss: 0.8716 - mae: 0.6753 - val_loss: 10.3579 - val_mae: 2.4100\n",
            "Epoch 500/500\n",
            "303/303 [==============================] - 1s 4ms/step - loss: 0.8533 - mae: 0.6691 - val_loss: 9.6581 - val_mae: 2.2283\n",
            "append mae\n"
          ],
          "name": "stdout"
        },
        {
          "output_type": "error",
          "ename": "KeyError",
          "evalue": "ignored",
          "traceback": [
            "\u001b[0;31m---------------------------------------------------------------------------\u001b[0m",
            "\u001b[0;31mKeyError\u001b[0m                                  Traceback (most recent call last)",
            "\u001b[0;32m<ipython-input-19-b07b2af8ed24>\u001b[0m in \u001b[0;36m<module>\u001b[0;34m()\u001b[0m\n\u001b[1;32m     26\u001b[0m                         epochs=num_epochs, batch_size=1, verbose=1)\n\u001b[1;32m     27\u001b[0m     \u001b[0mprint\u001b[0m\u001b[0;34m(\u001b[0m\u001b[0;34m\"append mae\"\u001b[0m\u001b[0;34m)\u001b[0m\u001b[0;34m\u001b[0m\u001b[0;34m\u001b[0m\u001b[0m\n\u001b[0;32m---> 28\u001b[0;31m     \u001b[0mmae_history\u001b[0m \u001b[0;34m=\u001b[0m \u001b[0mhistory\u001b[0m\u001b[0;34m.\u001b[0m\u001b[0mhistory\u001b[0m\u001b[0;34m[\u001b[0m\u001b[0;34m'val_mean_absolute_error'\u001b[0m\u001b[0;34m]\u001b[0m\u001b[0;34m\u001b[0m\u001b[0;34m\u001b[0m\u001b[0m\n\u001b[0m\u001b[1;32m     29\u001b[0m     \u001b[0mall_mae_histories\u001b[0m\u001b[0;34m.\u001b[0m\u001b[0mappend\u001b[0m\u001b[0;34m(\u001b[0m\u001b[0mmae_history\u001b[0m\u001b[0;34m)\u001b[0m\u001b[0;34m\u001b[0m\u001b[0;34m\u001b[0m\u001b[0m\n",
            "\u001b[0;31mKeyError\u001b[0m: 'val_mean_absolute_error'"
          ]
        }
      ]
    },
    {
      "cell_type": "markdown",
      "metadata": {
        "id": "Xm5l8_dO8Su5",
        "colab_type": "text"
      },
      "source": [
        "We can then compute the average of the per-epoch MAE scores for all folds:"
      ]
    },
    {
      "cell_type": "code",
      "metadata": {
        "id": "GwgyrFtO8Su6",
        "colab_type": "code",
        "colab": {
          "base_uri": "https://localhost:8080/",
          "height": 85
        },
        "outputId": "c2948a16-1d4c-4ec0-9a24-dd673a7b2155"
      },
      "source": [
        "average_mae_history = [\n",
        "    np.mean([x[i] for x in all_mae_histories]) for i in range(num_epochs)]"
      ],
      "execution_count": 20,
      "outputs": [
        {
          "output_type": "stream",
          "text": [
            "/usr/local/lib/python3.6/dist-packages/numpy/core/fromnumeric.py:3118: RuntimeWarning: Mean of empty slice.\n",
            "  out=out, **kwargs)\n",
            "/usr/local/lib/python3.6/dist-packages/numpy/core/_methods.py:85: RuntimeWarning: invalid value encountered in double_scalars\n",
            "  ret = ret.dtype.type(ret / rcount)\n"
          ],
          "name": "stderr"
        }
      ]
    },
    {
      "cell_type": "markdown",
      "metadata": {
        "id": "IVYPfkq38Su8",
        "colab_type": "text"
      },
      "source": [
        "Let's plot this:"
      ]
    },
    {
      "cell_type": "code",
      "metadata": {
        "id": "tl3Towch8Su8",
        "colab_type": "code",
        "outputId": "5f136ae9-6bd7-493c-ba0c-7680ab812ab0",
        "colab": {
          "base_uri": "https://localhost:8080/",
          "height": 283
        }
      },
      "source": [
        "import matplotlib.pyplot as plt\n",
        "\n",
        "plt.plot(range(1, len(average_mae_history) + 1), average_mae_history)\n",
        "plt.xlabel('Epochs')\n",
        "plt.ylabel('Validation MAE')\n",
        "plt.show()"
      ],
      "execution_count": 21,
      "outputs": [
        {
          "output_type": "display_data",
          "data": {
            "image/png": "[encoded data removed]",
            "text/plain": [
              "<Figure size 432x288 with 1 Axes>"
            ]
          },
          "metadata": {
            "tags": []
          }
        }
      ]
    },
    {
      "cell_type": "markdown",
      "metadata": {
        "id": "RawV7b2D8Su-",
        "colab_type": "text"
      },
      "source": [
        "\n",
        "It may be a bit hard to see the plot due to scaling issues and relatively high variance. Let's:\n",
        "\n",
        "* Omit the first 10 data points, which are on a different scale from the rest of the curve.\n",
        "* Replace each point with an exponential moving average of the previous points, to obtain a smooth curve."
      ]
    },
    {
      "cell_type": "code",
      "metadata": {
        "id": "gyyqzCFM8Su_",
        "colab_type": "code",
        "outputId": "0ff972e8-adb8-4c39-91a2-30344bb5296b",
        "colab": {
          "base_uri": "https://localhost:8080/",
          "height": 283
        }
      },
      "source": [
        "def smooth_curve(points, factor=0.9):\n",
        "  smoothed_points = []\n",
        "  for point in points:\n",
        "    if smoothed_points:\n",
        "      previous = smoothed_points[-1]\n",
        "      smoothed_points.append(previous * factor + point * (1 - factor))\n",
        "    else:\n",
        "      smoothed_points.append(point)\n",
        "  return smoothed_points\n",
        "\n",
        "smooth_mae_history = smooth_curve(average_mae_history[10:])\n",
        "\n",
        "plt.plot(range(1, len(smooth_mae_history) + 1), smooth_mae_history)\n",
        "plt.xlabel('Epochs')\n",
        "plt.ylabel('Validation MAE')\n",
        "plt.show()"
      ],
      "execution_count": 22,
      "outputs": [
        {
          "output_type": "display_data",
          "data": {
            "image/png": "[encoded data removed]",
            "text/plain": [
              "<Figure size 432x288 with 1 Axes>"
            ]
          },
          "metadata": {
            "tags": []
          }
        }
      ]
    },
    {
      "cell_type": "markdown",
      "metadata": {
        "id": "TjuVHjmS8SvA",
        "colab_type": "text"
      },
      "source": [
        "\n",
        "According to this plot, it seems that validation MAE stops improving significantly after 80 epochs. Past that point, we start overfitting.\n",
        "\n",
        "Once we are done tuning other parameters of our model (besides the number of epochs, we could also adjust the size of the hidden layers), we \n",
        "can train a final \"production\" model on all of the training data, with the best parameters, then look at its performance on the test data:"
      ]
    },
    {
      "cell_type": "code",
      "metadata": {
        "id": "3RyHKV6D8SvB",
        "colab_type": "code",
        "outputId": "de619600-559d-44a4-f738-139f6502d51b",
        "colab": {
          "base_uri": "https://localhost:8080/",
          "height": 34
        }
      },
      "source": [
        "# Get a fresh, compiled model.\n",
        "model = build_model()\n",
        "# Train it on the entirety of the data.\n",
        "model.fit(train_data, train_targets,\n",
        "          epochs=80, batch_size=16, verbose=0)\n",
        "test_mse_score, test_mae_score = model.evaluate(test_data, test_targets)"
      ],
      "execution_count": 23,
      "outputs": [
        {
          "output_type": "stream",
          "text": [
            "102/102 [==============================] - 0s 456us/step\n"
          ],
          "name": "stdout"
        }
      ]
    },
    {
      "cell_type": "code",
      "metadata": {
        "id": "D_SlwUQB8SvF",
        "colab_type": "code",
        "outputId": "7ff54a3c-ab34-418f-a115-c10e364ec1e3",
        "colab": {
          "base_uri": "https://localhost:8080/",
          "height": 34
        }
      },
      "source": [
        "test_mae_score"
      ],
      "execution_count": 24,
      "outputs": [
        {
          "output_type": "execute_result",
          "data": {
            "text/plain": [
              "2.5149309635162354"
            ]
          },
          "metadata": {
            "tags": []
          },
          "execution_count": 24
        }
      ]
    },
    {
      "cell_type": "markdown",
      "metadata": {
        "id": "qbhNHLRN8SvH",
        "colab_type": "text"
      },
      "source": [
        "We are still off by about \\$2,550."
      ]
    },
    {
      "cell_type": "markdown",
      "metadata": {
        "id": "WDU1T9eU8SvJ",
        "colab_type": "text"
      },
      "source": [
        "## Wrapping up\n",
        "\n",
        "\n",
        "Here's what you should take away from this example:\n",
        "\n",
        "* Regression is done using different loss functions from classification; Mean Squared Error (MSE) is a commonly used loss function for \n",
        "regression.\n",
        "* Similarly, evaluation metrics to be used for regression differ from those used for classification; naturally the concept of \"accuracy\" \n",
        "does not apply for regression. A common regression metric is Mean Absolute Error (MAE).\n",
        "* When features in the input data have values in different ranges, each feature should be scaled independently as a preprocessing step.\n",
        "* When there is little data available, using K-Fold validation is a great way to reliably evaluate a model.\n",
        "* When little training data is available, it is preferable to use a small network with very few hidden layers (typically only one or two), \n",
        "in order to avoid severe overfitting.\n",
        "\n",
        "This example concludes our series of three introductory practical examples. You are now able to handle common types of problems with vector data input:\n",
        "\n",
        "* Binary (2-class) classification.\n",
        "* Multi-class, single-label classification.\n",
        "* Scalar regression.\n",
        "\n",
        "In the next chapter, you will acquire a more formal understanding of some of the concepts you have encountered in these first examples, \n",
        "such as data preprocessing, model evaluation, and overfitting."
      ]
    }
  ]
}